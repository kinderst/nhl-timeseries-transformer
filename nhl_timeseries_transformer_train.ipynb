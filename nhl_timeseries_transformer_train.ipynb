{
  "nbformat": 4,
  "nbformat_minor": 0,
  "metadata": {
    "colab": {
      "provenance": [],
      "gpuType": "A100",
      "machine_shape": "hm"
    },
    "kernelspec": {
      "name": "python3",
      "display_name": "Python 3"
    },
    "language_info": {
      "name": "python"
    },
    "accelerator": "GPU"
  },
  "cells": [
    {
      "cell_type": "markdown",
      "source": [
        "# NHL Time Series Transformer Train/Eval Script\n",
        "\n",
        "Author: Scott Kinder\n",
        "\n",
        "Building initial proof of concept, training model to find (decent) hyperparams and reporting results on val/test data\n",
        "\n",
        "Source for data is moneypuck.com/data.htm"
      ],
      "metadata": {
        "id": "FhcEB1WL8KMZ"
      }
    },
    {
      "cell_type": "markdown",
      "source": [
        "## Hardware Check"
      ],
      "metadata": {
        "id": "OOdck98J8Mrp"
      }
    },
    {
      "cell_type": "code",
      "execution_count": null,
      "metadata": {
        "colab": {
          "base_uri": "https://localhost:8080/"
        },
        "id": "o_5fghFu6b-y",
        "outputId": "7e3543c0-4ddf-4202-81cf-1dd1c847095e"
      },
      "outputs": [
        {
          "output_type": "stream",
          "name": "stdout",
          "text": [
            "Sat May 27 22:22:27 2023       \n",
            "+-----------------------------------------------------------------------------+\n",
            "| NVIDIA-SMI 525.85.12    Driver Version: 525.85.12    CUDA Version: 12.0     |\n",
            "|-------------------------------+----------------------+----------------------+\n",
            "| GPU  Name        Persistence-M| Bus-Id        Disp.A | Volatile Uncorr. ECC |\n",
            "| Fan  Temp  Perf  Pwr:Usage/Cap|         Memory-Usage | GPU-Util  Compute M. |\n",
            "|                               |                      |               MIG M. |\n",
            "|===============================+======================+======================|\n",
            "|   0  NVIDIA A100-SXM...  Off  | 00000000:00:04.0 Off |                    0 |\n",
            "| N/A   32C    P0    42W / 400W |      0MiB / 40960MiB |      0%      Default |\n",
            "|                               |                      |             Disabled |\n",
            "+-------------------------------+----------------------+----------------------+\n",
            "                                                                               \n",
            "+-----------------------------------------------------------------------------+\n",
            "| Processes:                                                                  |\n",
            "|  GPU   GI   CI        PID   Type   Process name                  GPU Memory |\n",
            "|        ID   ID                                                   Usage      |\n",
            "|=============================================================================|\n",
            "|  No running processes found                                                 |\n",
            "+-----------------------------------------------------------------------------+\n"
          ]
        }
      ],
      "source": [
        "gpu_info = !nvidia-smi\n",
        "gpu_info = '\\n'.join(gpu_info)\n",
        "if gpu_info.find('failed') >= 0:\n",
        "  print('Not connected to a GPU')\n",
        "else:\n",
        "  print(gpu_info)"
      ]
    },
    {
      "cell_type": "code",
      "source": [
        "from psutil import virtual_memory\n",
        "ram_gb = virtual_memory().total / 1e9\n",
        "print('Your runtime has {:.1f} gigabytes of available RAM\\n'.format(ram_gb))\n",
        "\n",
        "if ram_gb < 20:\n",
        "  print('Not using a high-RAM runtime')\n",
        "else:\n",
        "  print('You are using a high-RAM runtime!')"
      ],
      "metadata": {
        "colab": {
          "base_uri": "https://localhost:8080/"
        },
        "id": "JmC8Uvwm6mgg",
        "outputId": "8b92a826-54c2-4fb7-9062-ac5790902ddf"
      },
      "execution_count": null,
      "outputs": [
        {
          "output_type": "stream",
          "name": "stdout",
          "text": [
            "Your runtime has 89.6 gigabytes of available RAM\n",
            "\n",
            "You are using a high-RAM runtime!\n"
          ]
        }
      ]
    },
    {
      "cell_type": "markdown",
      "source": [
        "## Imports"
      ],
      "metadata": {
        "id": "2QEBGvfc8RxC"
      }
    },
    {
      "cell_type": "code",
      "source": [
        "import pandas as pd\n",
        "import numpy as np\n",
        "import random\n",
        "\n",
        "import math\n",
        "import os\n",
        "from tempfile import TemporaryDirectory\n",
        "from typing import Tuple\n",
        "\n",
        "import torch\n",
        "from torch import nn, Tensor\n",
        "import torch.nn.functional as F\n",
        "from torch.nn import TransformerEncoder, TransformerEncoderLayer\n",
        "from torch.utils.data import dataset\n",
        "from torch.utils.data import random_split\n",
        "\n",
        "from torchtext.datasets import WikiText2\n",
        "from torchtext.data.utils import get_tokenizer\n",
        "from torchtext.vocab import build_vocab_from_iterator\n",
        "\n",
        "import copy\n",
        "import time\n",
        "\n",
        "import matplotlib.pyplot as plt"
      ],
      "metadata": {
        "id": "mo5Uiy3pxh_0"
      },
      "execution_count": null,
      "outputs": []
    },
    {
      "cell_type": "markdown",
      "source": [
        "## Define constants"
      ],
      "metadata": {
        "id": "Gd8JEvkBQJcS"
      }
    },
    {
      "cell_type": "code",
      "source": [
        "START_YEAR = 2008\n",
        "END_YEAR = 2022\n",
        "MIN_ICEHOURS = 10"
      ],
      "metadata": {
        "id": "Q3ImSyC9QLGu"
      },
      "execution_count": null,
      "outputs": []
    },
    {
      "cell_type": "markdown",
      "source": [
        "## Extract Data"
      ],
      "metadata": {
        "id": "w7F7H__38Hcn"
      }
    },
    {
      "cell_type": "markdown",
      "source": [
        "### Read raw CSVs"
      ],
      "metadata": {
        "id": "MO6t3ogQVCcX"
      }
    },
    {
      "cell_type": "code",
      "source": [
        "raw_dfs = {}\n",
        "for year in range(START_YEAR, END_YEAR + 1):\n",
        "    raw_dfs['raw' + str(year)] = pd.read_csv(\"/content/skaters\" + str(year) + '.csv')"
      ],
      "metadata": {
        "id": "FWnIGB3GP-Xd"
      },
      "execution_count": null,
      "outputs": []
    },
    {
      "cell_type": "code",
      "source": [
        "raw_dfs['raw2008'].head()"
      ],
      "metadata": {
        "colab": {
          "base_uri": "https://localhost:8080/",
          "height": 386
        },
        "id": "frgFDIup8WjH",
        "outputId": "b165c4bd-884a-4b2a-f951-95d72eb387df"
      },
      "execution_count": null,
      "outputs": [
        {
          "output_type": "execute_result",
          "data": {
            "text/plain": [
              "   playerId  season              name team position situation  games_played  \\\n",
              "0   8462196    2008  Stephane Robidas  DAL        D     other            72   \n",
              "1   8462196    2008  Stephane Robidas  DAL        D       all            72   \n",
              "2   8462196    2008  Stephane Robidas  DAL        D      5on5            72   \n",
              "3   8462196    2008  Stephane Robidas  DAL        D      4on5            72   \n",
              "4   8462196    2008  Stephane Robidas  DAL        D      5on4            72   \n",
              "\n",
              "    icetime  shifts  gameScore  ...  OffIce_F_xGoals  OffIce_A_xGoals  \\\n",
              "0    6729.0   105.0      31.93  ...             6.79            12.11   \n",
              "1  105958.0  2026.0      31.71  ...            95.61           116.39   \n",
              "2   74053.0  1480.0      31.71  ...            66.29            74.66   \n",
              "3   10397.0   235.0      30.26  ...             2.24            27.37   \n",
              "4   14779.0   206.0      31.69  ...            19.15             1.47   \n",
              "\n",
              "   OffIce_F_shotAttempts  OffIce_A_shotAttempts  xGoalsForAfterShifts  \\\n",
              "0                  106.0                  122.0                  0.14   \n",
              "1                 2161.0                 2223.0                  0.00   \n",
              "2                 1678.0                 1647.0                  3.64   \n",
              "3                   57.0                  380.0                  0.15   \n",
              "4                  294.0                   42.0                  0.13   \n",
              "\n",
              "   xGoalsAgainstAfterShifts  corsiForAfterShifts  corsiAgainstAfterShifts  \\\n",
              "0                      0.00                  4.0                      0.0   \n",
              "1                      0.00                  0.0                      0.0   \n",
              "2                      0.18                 91.0                     10.0   \n",
              "3                      0.00                  3.0                      0.0   \n",
              "4                      0.00                  6.0                      0.0   \n",
              "\n",
              "   fenwickForAfterShifts  fenwickAgainstAfterShifts  \n",
              "0                    3.0                        0.0  \n",
              "1                    0.0                        0.0  \n",
              "2                   74.0                        8.0  \n",
              "3                    3.0                        0.0  \n",
              "4                    6.0                        0.0  \n",
              "\n",
              "[5 rows x 154 columns]"
            ],
            "text/html": [
              "\n",
              "  <div id=\"df-657928a3-53b5-4641-87bc-05aaada10ec8\">\n",
              "    <div class=\"colab-df-container\">\n",
              "      <div>\n",
              "<style scoped>\n",
              "    .dataframe tbody tr th:only-of-type {\n",
              "        vertical-align: middle;\n",
              "    }\n",
              "\n",
              "    .dataframe tbody tr th {\n",
              "        vertical-align: top;\n",
              "    }\n",
              "\n",
              "    .dataframe thead th {\n",
              "        text-align: right;\n",
              "    }\n",
              "</style>\n",
              "<table border=\"1\" class=\"dataframe\">\n",
              "  <thead>\n",
              "    <tr style=\"text-align: right;\">\n",
              "      <th></th>\n",
              "      <th>playerId</th>\n",
              "      <th>season</th>\n",
              "      <th>name</th>\n",
              "      <th>team</th>\n",
              "      <th>position</th>\n",
              "      <th>situation</th>\n",
              "      <th>games_played</th>\n",
              "      <th>icetime</th>\n",
              "      <th>shifts</th>\n",
              "      <th>gameScore</th>\n",
              "      <th>...</th>\n",
              "      <th>OffIce_F_xGoals</th>\n",
              "      <th>OffIce_A_xGoals</th>\n",
              "      <th>OffIce_F_shotAttempts</th>\n",
              "      <th>OffIce_A_shotAttempts</th>\n",
              "      <th>xGoalsForAfterShifts</th>\n",
              "      <th>xGoalsAgainstAfterShifts</th>\n",
              "      <th>corsiForAfterShifts</th>\n",
              "      <th>corsiAgainstAfterShifts</th>\n",
              "      <th>fenwickForAfterShifts</th>\n",
              "      <th>fenwickAgainstAfterShifts</th>\n",
              "    </tr>\n",
              "  </thead>\n",
              "  <tbody>\n",
              "    <tr>\n",
              "      <th>0</th>\n",
              "      <td>8462196</td>\n",
              "      <td>2008</td>\n",
              "      <td>Stephane Robidas</td>\n",
              "      <td>DAL</td>\n",
              "      <td>D</td>\n",
              "      <td>other</td>\n",
              "      <td>72</td>\n",
              "      <td>6729.0</td>\n",
              "      <td>105.0</td>\n",
              "      <td>31.93</td>\n",
              "      <td>...</td>\n",
              "      <td>6.79</td>\n",
              "      <td>12.11</td>\n",
              "      <td>106.0</td>\n",
              "      <td>122.0</td>\n",
              "      <td>0.14</td>\n",
              "      <td>0.00</td>\n",
              "      <td>4.0</td>\n",
              "      <td>0.0</td>\n",
              "      <td>3.0</td>\n",
              "      <td>0.0</td>\n",
              "    </tr>\n",
              "    <tr>\n",
              "      <th>1</th>\n",
              "      <td>8462196</td>\n",
              "      <td>2008</td>\n",
              "      <td>Stephane Robidas</td>\n",
              "      <td>DAL</td>\n",
              "      <td>D</td>\n",
              "      <td>all</td>\n",
              "      <td>72</td>\n",
              "      <td>105958.0</td>\n",
              "      <td>2026.0</td>\n",
              "      <td>31.71</td>\n",
              "      <td>...</td>\n",
              "      <td>95.61</td>\n",
              "      <td>116.39</td>\n",
              "      <td>2161.0</td>\n",
              "      <td>2223.0</td>\n",
              "      <td>0.00</td>\n",
              "      <td>0.00</td>\n",
              "      <td>0.0</td>\n",
              "      <td>0.0</td>\n",
              "      <td>0.0</td>\n",
              "      <td>0.0</td>\n",
              "    </tr>\n",
              "    <tr>\n",
              "      <th>2</th>\n",
              "      <td>8462196</td>\n",
              "      <td>2008</td>\n",
              "      <td>Stephane Robidas</td>\n",
              "      <td>DAL</td>\n",
              "      <td>D</td>\n",
              "      <td>5on5</td>\n",
              "      <td>72</td>\n",
              "      <td>74053.0</td>\n",
              "      <td>1480.0</td>\n",
              "      <td>31.71</td>\n",
              "      <td>...</td>\n",
              "      <td>66.29</td>\n",
              "      <td>74.66</td>\n",
              "      <td>1678.0</td>\n",
              "      <td>1647.0</td>\n",
              "      <td>3.64</td>\n",
              "      <td>0.18</td>\n",
              "      <td>91.0</td>\n",
              "      <td>10.0</td>\n",
              "      <td>74.0</td>\n",
              "      <td>8.0</td>\n",
              "    </tr>\n",
              "    <tr>\n",
              "      <th>3</th>\n",
              "      <td>8462196</td>\n",
              "      <td>2008</td>\n",
              "      <td>Stephane Robidas</td>\n",
              "      <td>DAL</td>\n",
              "      <td>D</td>\n",
              "      <td>4on5</td>\n",
              "      <td>72</td>\n",
              "      <td>10397.0</td>\n",
              "      <td>235.0</td>\n",
              "      <td>30.26</td>\n",
              "      <td>...</td>\n",
              "      <td>2.24</td>\n",
              "      <td>27.37</td>\n",
              "      <td>57.0</td>\n",
              "      <td>380.0</td>\n",
              "      <td>0.15</td>\n",
              "      <td>0.00</td>\n",
              "      <td>3.0</td>\n",
              "      <td>0.0</td>\n",
              "      <td>3.0</td>\n",
              "      <td>0.0</td>\n",
              "    </tr>\n",
              "    <tr>\n",
              "      <th>4</th>\n",
              "      <td>8462196</td>\n",
              "      <td>2008</td>\n",
              "      <td>Stephane Robidas</td>\n",
              "      <td>DAL</td>\n",
              "      <td>D</td>\n",
              "      <td>5on4</td>\n",
              "      <td>72</td>\n",
              "      <td>14779.0</td>\n",
              "      <td>206.0</td>\n",
              "      <td>31.69</td>\n",
              "      <td>...</td>\n",
              "      <td>19.15</td>\n",
              "      <td>1.47</td>\n",
              "      <td>294.0</td>\n",
              "      <td>42.0</td>\n",
              "      <td>0.13</td>\n",
              "      <td>0.00</td>\n",
              "      <td>6.0</td>\n",
              "      <td>0.0</td>\n",
              "      <td>6.0</td>\n",
              "      <td>0.0</td>\n",
              "    </tr>\n",
              "  </tbody>\n",
              "</table>\n",
              "<p>5 rows × 154 columns</p>\n",
              "</div>\n",
              "      <button class=\"colab-df-convert\" onclick=\"convertToInteractive('df-657928a3-53b5-4641-87bc-05aaada10ec8')\"\n",
              "              title=\"Convert this dataframe to an interactive table.\"\n",
              "              style=\"display:none;\">\n",
              "        \n",
              "  <svg xmlns=\"http://www.w3.org/2000/svg\" height=\"24px\"viewBox=\"0 0 24 24\"\n",
              "       width=\"24px\">\n",
              "    <path d=\"M0 0h24v24H0V0z\" fill=\"none\"/>\n",
              "    <path d=\"M18.56 5.44l.94 2.06.94-2.06 2.06-.94-2.06-.94-.94-2.06-.94 2.06-2.06.94zm-11 1L8.5 8.5l.94-2.06 2.06-.94-2.06-.94L8.5 2.5l-.94 2.06-2.06.94zm10 10l.94 2.06.94-2.06 2.06-.94-2.06-.94-.94-2.06-.94 2.06-2.06.94z\"/><path d=\"M17.41 7.96l-1.37-1.37c-.4-.4-.92-.59-1.43-.59-.52 0-1.04.2-1.43.59L10.3 9.45l-7.72 7.72c-.78.78-.78 2.05 0 2.83L4 21.41c.39.39.9.59 1.41.59.51 0 1.02-.2 1.41-.59l7.78-7.78 2.81-2.81c.8-.78.8-2.07 0-2.86zM5.41 20L4 18.59l7.72-7.72 1.47 1.35L5.41 20z\"/>\n",
              "  </svg>\n",
              "      </button>\n",
              "      \n",
              "  <style>\n",
              "    .colab-df-container {\n",
              "      display:flex;\n",
              "      flex-wrap:wrap;\n",
              "      gap: 12px;\n",
              "    }\n",
              "\n",
              "    .colab-df-convert {\n",
              "      background-color: #E8F0FE;\n",
              "      border: none;\n",
              "      border-radius: 50%;\n",
              "      cursor: pointer;\n",
              "      display: none;\n",
              "      fill: #1967D2;\n",
              "      height: 32px;\n",
              "      padding: 0 0 0 0;\n",
              "      width: 32px;\n",
              "    }\n",
              "\n",
              "    .colab-df-convert:hover {\n",
              "      background-color: #E2EBFA;\n",
              "      box-shadow: 0px 1px 2px rgba(60, 64, 67, 0.3), 0px 1px 3px 1px rgba(60, 64, 67, 0.15);\n",
              "      fill: #174EA6;\n",
              "    }\n",
              "\n",
              "    [theme=dark] .colab-df-convert {\n",
              "      background-color: #3B4455;\n",
              "      fill: #D2E3FC;\n",
              "    }\n",
              "\n",
              "    [theme=dark] .colab-df-convert:hover {\n",
              "      background-color: #434B5C;\n",
              "      box-shadow: 0px 1px 3px 1px rgba(0, 0, 0, 0.15);\n",
              "      filter: drop-shadow(0px 1px 2px rgba(0, 0, 0, 0.3));\n",
              "      fill: #FFFFFF;\n",
              "    }\n",
              "  </style>\n",
              "\n",
              "      <script>\n",
              "        const buttonEl =\n",
              "          document.querySelector('#df-657928a3-53b5-4641-87bc-05aaada10ec8 button.colab-df-convert');\n",
              "        buttonEl.style.display =\n",
              "          google.colab.kernel.accessAllowed ? 'block' : 'none';\n",
              "\n",
              "        async function convertToInteractive(key) {\n",
              "          const element = document.querySelector('#df-657928a3-53b5-4641-87bc-05aaada10ec8');\n",
              "          const dataTable =\n",
              "            await google.colab.kernel.invokeFunction('convertToInteractive',\n",
              "                                                     [key], {});\n",
              "          if (!dataTable) return;\n",
              "\n",
              "          const docLinkHtml = 'Like what you see? Visit the ' +\n",
              "            '<a target=\"_blank\" href=https://colab.research.google.com/notebooks/data_table.ipynb>data table notebook</a>'\n",
              "            + ' to learn more about interactive tables.';\n",
              "          element.innerHTML = '';\n",
              "          dataTable['output_type'] = 'display_data';\n",
              "          await google.colab.output.renderOutput(dataTable, element);\n",
              "          const docLink = document.createElement('div');\n",
              "          docLink.innerHTML = docLinkHtml;\n",
              "          element.appendChild(docLink);\n",
              "        }\n",
              "      </script>\n",
              "    </div>\n",
              "  </div>\n",
              "  "
            ]
          },
          "metadata": {},
          "execution_count": 6
        }
      ]
    },
    {
      "cell_type": "code",
      "source": [
        "raw_dfs['raw2008'].columns"
      ],
      "metadata": {
        "colab": {
          "base_uri": "https://localhost:8080/"
        },
        "id": "sD115WuL8sw6",
        "outputId": "130ab69a-cc59-4d92-c50e-594f5678da05"
      },
      "execution_count": null,
      "outputs": [
        {
          "output_type": "execute_result",
          "data": {
            "text/plain": [
              "Index(['playerId', 'season', 'name', 'team', 'position', 'situation',\n",
              "       'games_played', 'icetime', 'shifts', 'gameScore',\n",
              "       ...\n",
              "       'OffIce_F_xGoals', 'OffIce_A_xGoals', 'OffIce_F_shotAttempts',\n",
              "       'OffIce_A_shotAttempts', 'xGoalsForAfterShifts',\n",
              "       'xGoalsAgainstAfterShifts', 'corsiForAfterShifts',\n",
              "       'corsiAgainstAfterShifts', 'fenwickForAfterShifts',\n",
              "       'fenwickAgainstAfterShifts'],\n",
              "      dtype='object', length=154)"
            ]
          },
          "metadata": {},
          "execution_count": 7
        }
      ]
    },
    {
      "cell_type": "code",
      "source": [
        "# Make sure all the cols are the same\n",
        "assert set(raw_dfs['raw2008'].columns) == set(raw_dfs['raw2009'].columns) == \\\n",
        "    set(raw_dfs['raw2010'].columns) == set(raw_dfs['raw2011'].columns) == \\\n",
        "    set(raw_dfs['raw2012'].columns) == set(raw_dfs['raw2013'].columns) == \\\n",
        "    set(raw_dfs['raw2014'].columns) == set(raw_dfs['raw2015'].columns) == \\\n",
        "    set(raw_dfs['raw2016'].columns) == set(raw_dfs['raw2017'].columns) == \\\n",
        "    set(raw_dfs['raw2018'].columns) == set(raw_dfs['raw2019'].columns) == \\\n",
        "    set(raw_dfs['raw2020'].columns) == set(raw_dfs['raw2021'].columns) == \\\n",
        "    set(raw_dfs['raw2022'].columns), \"Column names are different.\""
      ],
      "metadata": {
        "id": "0fhy95yP8zz3"
      },
      "execution_count": null,
      "outputs": []
    },
    {
      "cell_type": "markdown",
      "source": [
        "### Reformat Data\n",
        "\n",
        "Get only data from 'all' situation, and only data for players with over 10 icehours for the season, and convert stats to per icehour"
      ],
      "metadata": {
        "id": "8rdgP6PlVHzE"
      }
    },
    {
      "cell_type": "code",
      "source": [
        "def create_df_per_ice_hour(df_param, use_col_param):\n",
        "    # get proper columns\n",
        "    df_only_columns = df_param[use_col_param]\n",
        "\n",
        "    # get one hot encode for position\n",
        "    one_hot_encoded = pd.get_dummies(df_only_columns['position'])\n",
        "    # Concatenate the one-hot encoded columns with the original df\n",
        "    df_only_columns = pd.concat([df_only_columns, one_hot_encoded], axis=1)\n",
        "    # Remove the original column from the DataFrame\n",
        "    df_only_columns.drop('position', axis=1, inplace=True)\n",
        "\n",
        "    # Create a copy of the dataframe without the ID/pos columns, and icetime\n",
        "    df_refactored = df_only_columns.drop(['playerId', 'icetime', 'C', 'D', 'L', 'R'], axis=1).copy()\n",
        "    # Extract the refactoring values\n",
        "    refactoring_values = df_only_columns['icetime']\n",
        "\n",
        "    # Iterate over each column (excluding the 'refactor_column')\n",
        "    for column in df_refactored.columns:\n",
        "        # Refactor the values in each row\n",
        "        df_refactored[column] = df_refactored[column] / (refactoring_values / 60 / 60)\n",
        "\n",
        "    # Concatenate the ID column with the refactored dataframe\n",
        "    df_refactored = pd.concat([df_only_columns[['playerId', 'C', 'D', 'L', 'R']], df_refactored], axis=1)\n",
        "    return df_refactored"
      ],
      "metadata": {
        "id": "Ej6NLioreHbH"
      },
      "execution_count": null,
      "outputs": []
    },
    {
      "cell_type": "code",
      "source": [
        "use_columns = [\n",
        "    'playerId', 'position',\n",
        "    'icetime',\n",
        "    'I_F_primaryAssists', 'I_F_secondaryAssists',\n",
        "    'I_F_shotsOnGoal', 'I_F_shotAttempts',\n",
        "    'I_F_goals', 'I_F_rebounds',\n",
        "    'I_F_freeze', 'I_F_playStopped',\n",
        "    'I_F_playContinuedInZone', 'I_F_playContinuedOutsideZone',\n",
        "    'I_F_hits', 'I_F_takeaways', 'I_F_giveaways',\n",
        "    'I_F_dZoneGiveaways', 'I_F_oZoneShiftStarts',\n",
        "    'I_F_dZoneShiftStarts', 'I_F_neutralZoneShiftStarts',\n",
        "    'I_F_flyShiftStarts', 'I_F_oZoneShiftEnds',\n",
        "    'I_F_dZoneShiftEnds', 'I_F_neutralZoneShiftEnds',\n",
        "    'I_F_flyShiftEnds',\n",
        "    'OnIce_F_shotsOnGoal', 'OnIce_F_shotAttempts',\n",
        "    'OnIce_F_goals', 'OnIce_F_rebounds', 'OnIce_F_reboundGoals',\n",
        "    'OnIce_A_shotsOnGoal', 'OnIce_A_shotAttempts',\n",
        "    'OnIce_A_goals', 'OnIce_A_rebounds', 'OnIce_A_reboundGoals',\n",
        "]"
      ],
      "metadata": {
        "id": "QPrSlnNpd4Ga"
      },
      "execution_count": null,
      "outputs": []
    },
    {
      "cell_type": "code",
      "source": [
        "input_dfs = {}\n",
        "for year in range(START_YEAR, END_YEAR + 1):\n",
        "    # get the raw df\n",
        "    raw_df = raw_dfs['raw' + str(year)]\n",
        "    \n",
        "    # filter based on getting only \"all\" situation rows, and\n",
        "    # rows where icetime is greater than MIN_ICEHOURS in icehours\n",
        "    filtered_df = raw_df[(raw_df['situation'] == 'all') & \\\n",
        "        (raw_df['icetime'] > 60 * 60 * MIN_ICEHOURS)]\n",
        "    \n",
        "    # always good to double check\n",
        "    assert filtered_df['icetime'].min() > (60 * 60 * MIN_ICEHOURS)\n",
        "\n",
        "    # add to inputs\n",
        "    input_dfs['year' + str(year)] = create_df_per_ice_hour(\n",
        "        filtered_df,\n",
        "        use_columns\n",
        "    )"
      ],
      "metadata": {
        "id": "Yj2juUorTvXs"
      },
      "execution_count": null,
      "outputs": []
    },
    {
      "cell_type": "code",
      "source": [
        "input_dfs['year2022'].head()"
      ],
      "metadata": {
        "colab": {
          "base_uri": "https://localhost:8080/",
          "height": 300
        },
        "id": "8EvMjle2VOlh",
        "outputId": "4b0c97d7-7620-416b-c90f-278e7cc06c4e"
      },
      "execution_count": null,
      "outputs": [
        {
          "output_type": "execute_result",
          "data": {
            "text/plain": [
              "    playerId  C  D  L  R  I_F_primaryAssists  I_F_secondaryAssists  \\\n",
              "1    8471817  0  0  0  1            0.440906              0.440906   \n",
              "6    8480950  0  1  0  0            0.352734              0.352734   \n",
              "11   8475625  0  1  0  0            0.075440              0.150880   \n",
              "26   8478047  0  0  1  0            0.880071              0.324237   \n",
              "31   8480113  0  0  1  0            0.811064              0.561506   \n",
              "\n",
              "    I_F_shotsOnGoal  I_F_shotAttempts  I_F_goals  ...  OnIce_F_shotsOnGoal  \\\n",
              "1          4.232701          6.966320   0.440906  ...            25.043478   \n",
              "6          2.410347          4.585538   0.117578  ...            25.573192   \n",
              "11         5.959765         10.561609   0.150880  ...            26.328583   \n",
              "26         8.059598         13.803219   1.065349  ...            35.897634   \n",
              "31         8.297806         13.600915   0.873453  ...            32.442550   \n",
              "\n",
              "    OnIce_F_shotAttempts  OnIce_F_goals  OnIce_F_rebounds  \\\n",
              "1              48.764238       1.851806          2.733619   \n",
              "6              47.383892       2.292769          2.939447   \n",
              "11             49.337804       1.735122          2.036882   \n",
              "26             67.626510       4.076118          3.983479   \n",
              "31             58.396589       3.556203          3.057086   \n",
              "\n",
              "    OnIce_F_reboundGoals  OnIce_A_shotsOnGoal  OnIce_A_shotAttempts  \\\n",
              "1               0.352725            31.127985             59.875077   \n",
              "6               0.293945            37.330982             64.844209   \n",
              "11              0.075440            29.647946             59.446773   \n",
              "26              0.741112            28.625468             54.657042   \n",
              "31              0.561506            27.014662             55.776230   \n",
              "\n",
              "    OnIce_A_goals  OnIce_A_rebounds  OnIce_A_reboundGoals  \n",
              "1        2.380894          2.469075              0.440906  \n",
              "6        4.232804          4.291593              0.764256  \n",
              "11       2.489522          2.187762              0.377200  \n",
              "26       2.269657          2.918130              0.370556  \n",
              "31       2.807528          2.557970              0.311948  \n",
              "\n",
              "[5 rows x 37 columns]"
            ],
            "text/html": [
              "\n",
              "  <div id=\"df-53f2090c-ce5d-4c54-8be6-12071aa52d31\">\n",
              "    <div class=\"colab-df-container\">\n",
              "      <div>\n",
              "<style scoped>\n",
              "    .dataframe tbody tr th:only-of-type {\n",
              "        vertical-align: middle;\n",
              "    }\n",
              "\n",
              "    .dataframe tbody tr th {\n",
              "        vertical-align: top;\n",
              "    }\n",
              "\n",
              "    .dataframe thead th {\n",
              "        text-align: right;\n",
              "    }\n",
              "</style>\n",
              "<table border=\"1\" class=\"dataframe\">\n",
              "  <thead>\n",
              "    <tr style=\"text-align: right;\">\n",
              "      <th></th>\n",
              "      <th>playerId</th>\n",
              "      <th>C</th>\n",
              "      <th>D</th>\n",
              "      <th>L</th>\n",
              "      <th>R</th>\n",
              "      <th>I_F_primaryAssists</th>\n",
              "      <th>I_F_secondaryAssists</th>\n",
              "      <th>I_F_shotsOnGoal</th>\n",
              "      <th>I_F_shotAttempts</th>\n",
              "      <th>I_F_goals</th>\n",
              "      <th>...</th>\n",
              "      <th>OnIce_F_shotsOnGoal</th>\n",
              "      <th>OnIce_F_shotAttempts</th>\n",
              "      <th>OnIce_F_goals</th>\n",
              "      <th>OnIce_F_rebounds</th>\n",
              "      <th>OnIce_F_reboundGoals</th>\n",
              "      <th>OnIce_A_shotsOnGoal</th>\n",
              "      <th>OnIce_A_shotAttempts</th>\n",
              "      <th>OnIce_A_goals</th>\n",
              "      <th>OnIce_A_rebounds</th>\n",
              "      <th>OnIce_A_reboundGoals</th>\n",
              "    </tr>\n",
              "  </thead>\n",
              "  <tbody>\n",
              "    <tr>\n",
              "      <th>1</th>\n",
              "      <td>8471817</td>\n",
              "      <td>0</td>\n",
              "      <td>0</td>\n",
              "      <td>0</td>\n",
              "      <td>1</td>\n",
              "      <td>0.440906</td>\n",
              "      <td>0.440906</td>\n",
              "      <td>4.232701</td>\n",
              "      <td>6.966320</td>\n",
              "      <td>0.440906</td>\n",
              "      <td>...</td>\n",
              "      <td>25.043478</td>\n",
              "      <td>48.764238</td>\n",
              "      <td>1.851806</td>\n",
              "      <td>2.733619</td>\n",
              "      <td>0.352725</td>\n",
              "      <td>31.127985</td>\n",
              "      <td>59.875077</td>\n",
              "      <td>2.380894</td>\n",
              "      <td>2.469075</td>\n",
              "      <td>0.440906</td>\n",
              "    </tr>\n",
              "    <tr>\n",
              "      <th>6</th>\n",
              "      <td>8480950</td>\n",
              "      <td>0</td>\n",
              "      <td>1</td>\n",
              "      <td>0</td>\n",
              "      <td>0</td>\n",
              "      <td>0.352734</td>\n",
              "      <td>0.352734</td>\n",
              "      <td>2.410347</td>\n",
              "      <td>4.585538</td>\n",
              "      <td>0.117578</td>\n",
              "      <td>...</td>\n",
              "      <td>25.573192</td>\n",
              "      <td>47.383892</td>\n",
              "      <td>2.292769</td>\n",
              "      <td>2.939447</td>\n",
              "      <td>0.293945</td>\n",
              "      <td>37.330982</td>\n",
              "      <td>64.844209</td>\n",
              "      <td>4.232804</td>\n",
              "      <td>4.291593</td>\n",
              "      <td>0.764256</td>\n",
              "    </tr>\n",
              "    <tr>\n",
              "      <th>11</th>\n",
              "      <td>8475625</td>\n",
              "      <td>0</td>\n",
              "      <td>1</td>\n",
              "      <td>0</td>\n",
              "      <td>0</td>\n",
              "      <td>0.075440</td>\n",
              "      <td>0.150880</td>\n",
              "      <td>5.959765</td>\n",
              "      <td>10.561609</td>\n",
              "      <td>0.150880</td>\n",
              "      <td>...</td>\n",
              "      <td>26.328583</td>\n",
              "      <td>49.337804</td>\n",
              "      <td>1.735122</td>\n",
              "      <td>2.036882</td>\n",
              "      <td>0.075440</td>\n",
              "      <td>29.647946</td>\n",
              "      <td>59.446773</td>\n",
              "      <td>2.489522</td>\n",
              "      <td>2.187762</td>\n",
              "      <td>0.377200</td>\n",
              "    </tr>\n",
              "    <tr>\n",
              "      <th>26</th>\n",
              "      <td>8478047</td>\n",
              "      <td>0</td>\n",
              "      <td>0</td>\n",
              "      <td>1</td>\n",
              "      <td>0</td>\n",
              "      <td>0.880071</td>\n",
              "      <td>0.324237</td>\n",
              "      <td>8.059598</td>\n",
              "      <td>13.803219</td>\n",
              "      <td>1.065349</td>\n",
              "      <td>...</td>\n",
              "      <td>35.897634</td>\n",
              "      <td>67.626510</td>\n",
              "      <td>4.076118</td>\n",
              "      <td>3.983479</td>\n",
              "      <td>0.741112</td>\n",
              "      <td>28.625468</td>\n",
              "      <td>54.657042</td>\n",
              "      <td>2.269657</td>\n",
              "      <td>2.918130</td>\n",
              "      <td>0.370556</td>\n",
              "    </tr>\n",
              "    <tr>\n",
              "      <th>31</th>\n",
              "      <td>8480113</td>\n",
              "      <td>0</td>\n",
              "      <td>0</td>\n",
              "      <td>1</td>\n",
              "      <td>0</td>\n",
              "      <td>0.811064</td>\n",
              "      <td>0.561506</td>\n",
              "      <td>8.297806</td>\n",
              "      <td>13.600915</td>\n",
              "      <td>0.873453</td>\n",
              "      <td>...</td>\n",
              "      <td>32.442550</td>\n",
              "      <td>58.396589</td>\n",
              "      <td>3.556203</td>\n",
              "      <td>3.057086</td>\n",
              "      <td>0.561506</td>\n",
              "      <td>27.014662</td>\n",
              "      <td>55.776230</td>\n",
              "      <td>2.807528</td>\n",
              "      <td>2.557970</td>\n",
              "      <td>0.311948</td>\n",
              "    </tr>\n",
              "  </tbody>\n",
              "</table>\n",
              "<p>5 rows × 37 columns</p>\n",
              "</div>\n",
              "      <button class=\"colab-df-convert\" onclick=\"convertToInteractive('df-53f2090c-ce5d-4c54-8be6-12071aa52d31')\"\n",
              "              title=\"Convert this dataframe to an interactive table.\"\n",
              "              style=\"display:none;\">\n",
              "        \n",
              "  <svg xmlns=\"http://www.w3.org/2000/svg\" height=\"24px\"viewBox=\"0 0 24 24\"\n",
              "       width=\"24px\">\n",
              "    <path d=\"M0 0h24v24H0V0z\" fill=\"none\"/>\n",
              "    <path d=\"M18.56 5.44l.94 2.06.94-2.06 2.06-.94-2.06-.94-.94-2.06-.94 2.06-2.06.94zm-11 1L8.5 8.5l.94-2.06 2.06-.94-2.06-.94L8.5 2.5l-.94 2.06-2.06.94zm10 10l.94 2.06.94-2.06 2.06-.94-2.06-.94-.94-2.06-.94 2.06-2.06.94z\"/><path d=\"M17.41 7.96l-1.37-1.37c-.4-.4-.92-.59-1.43-.59-.52 0-1.04.2-1.43.59L10.3 9.45l-7.72 7.72c-.78.78-.78 2.05 0 2.83L4 21.41c.39.39.9.59 1.41.59.51 0 1.02-.2 1.41-.59l7.78-7.78 2.81-2.81c.8-.78.8-2.07 0-2.86zM5.41 20L4 18.59l7.72-7.72 1.47 1.35L5.41 20z\"/>\n",
              "  </svg>\n",
              "      </button>\n",
              "      \n",
              "  <style>\n",
              "    .colab-df-container {\n",
              "      display:flex;\n",
              "      flex-wrap:wrap;\n",
              "      gap: 12px;\n",
              "    }\n",
              "\n",
              "    .colab-df-convert {\n",
              "      background-color: #E8F0FE;\n",
              "      border: none;\n",
              "      border-radius: 50%;\n",
              "      cursor: pointer;\n",
              "      display: none;\n",
              "      fill: #1967D2;\n",
              "      height: 32px;\n",
              "      padding: 0 0 0 0;\n",
              "      width: 32px;\n",
              "    }\n",
              "\n",
              "    .colab-df-convert:hover {\n",
              "      background-color: #E2EBFA;\n",
              "      box-shadow: 0px 1px 2px rgba(60, 64, 67, 0.3), 0px 1px 3px 1px rgba(60, 64, 67, 0.15);\n",
              "      fill: #174EA6;\n",
              "    }\n",
              "\n",
              "    [theme=dark] .colab-df-convert {\n",
              "      background-color: #3B4455;\n",
              "      fill: #D2E3FC;\n",
              "    }\n",
              "\n",
              "    [theme=dark] .colab-df-convert:hover {\n",
              "      background-color: #434B5C;\n",
              "      box-shadow: 0px 1px 3px 1px rgba(0, 0, 0, 0.15);\n",
              "      filter: drop-shadow(0px 1px 2px rgba(0, 0, 0, 0.3));\n",
              "      fill: #FFFFFF;\n",
              "    }\n",
              "  </style>\n",
              "\n",
              "      <script>\n",
              "        const buttonEl =\n",
              "          document.querySelector('#df-53f2090c-ce5d-4c54-8be6-12071aa52d31 button.colab-df-convert');\n",
              "        buttonEl.style.display =\n",
              "          google.colab.kernel.accessAllowed ? 'block' : 'none';\n",
              "\n",
              "        async function convertToInteractive(key) {\n",
              "          const element = document.querySelector('#df-53f2090c-ce5d-4c54-8be6-12071aa52d31');\n",
              "          const dataTable =\n",
              "            await google.colab.kernel.invokeFunction('convertToInteractive',\n",
              "                                                     [key], {});\n",
              "          if (!dataTable) return;\n",
              "\n",
              "          const docLinkHtml = 'Like what you see? Visit the ' +\n",
              "            '<a target=\"_blank\" href=https://colab.research.google.com/notebooks/data_table.ipynb>data table notebook</a>'\n",
              "            + ' to learn more about interactive tables.';\n",
              "          element.innerHTML = '';\n",
              "          dataTable['output_type'] = 'display_data';\n",
              "          await google.colab.output.renderOutput(dataTable, element);\n",
              "          const docLink = document.createElement('div');\n",
              "          docLink.innerHTML = docLinkHtml;\n",
              "          element.appendChild(docLink);\n",
              "        }\n",
              "      </script>\n",
              "    </div>\n",
              "  </div>\n",
              "  "
            ]
          },
          "metadata": {},
          "execution_count": 12
        }
      ]
    },
    {
      "cell_type": "code",
      "source": [
        "# known value\n",
        "# 8471817 I_F_pA, I_F_sA, I_F_sOG = .440906, .440906, 4.2307005\n",
        "assert input_dfs['year2022'].loc[1, \"I_F_primaryAssists\"] == 0.44090630740967546"
      ],
      "metadata": {
        "id": "-XTCMltNgM4e"
      },
      "execution_count": null,
      "outputs": []
    },
    {
      "cell_type": "markdown",
      "source": [
        "### Identify Rookies\n",
        "\n",
        "The reason is because we want our timeseries data to start with rookie seasons, as that is the trajectory that we are trying to capture (a player career over seasons). This means veterans heading into the 2008 season will be disregarded. Other means of utilizing the data could be considered for future approaches"
      ],
      "metadata": {
        "id": "5nfKsKdTIU6H"
      }
    },
    {
      "cell_type": "code",
      "source": [
        "df_player_birthday = pd.read_csv(\"/content/allPlayersLookup.csv\")"
      ],
      "metadata": {
        "id": "-ZS3ctXuJlui"
      },
      "execution_count": null,
      "outputs": []
    },
    {
      "cell_type": "code",
      "source": [
        "df_player_birthday.head()"
      ],
      "metadata": {
        "colab": {
          "base_uri": "https://localhost:8080/",
          "height": 357
        },
        "id": "K1NqSdZnJso0",
        "outputId": "13820953-ffdc-45f9-fb92-2310f978892e"
      },
      "execution_count": null,
      "outputs": [
        {
          "output_type": "execute_result",
          "data": {
            "text/plain": [
              "   playerId          name position team   birthDate  weight  height  \\\n",
              "0   8478421    A.J. Greer        L  BOS  1996-12-14   210.0   6' 3\"   \n",
              "1   8477180    Aaron Dell        G  SJS  1989-05-04   205.0   6' 0\"   \n",
              "2   8465992  Aaron Downey        R  DET  1974-08-27   215.0   6' 1\"   \n",
              "3   8477932  Aaron Ekblad        D  FLA  1996-02-07   220.0   6' 4\"   \n",
              "4   8471451  Aaron Gagnon        C  WPG  1986-04-24   186.0  5' 11\"   \n",
              "\n",
              "  nationality shootsCatches  primaryNumber primaryPosition  \n",
              "0         CAN             L           24.0               L  \n",
              "1         CAN             L           30.0               G  \n",
              "2         CAN             R           44.0               R  \n",
              "3         CAN             R            5.0               D  \n",
              "4         CAN             R           21.0               C  "
            ],
            "text/html": [
              "\n",
              "  <div id=\"df-40e11f9a-b396-45e0-b3a7-a6bab033a92d\">\n",
              "    <div class=\"colab-df-container\">\n",
              "      <div>\n",
              "<style scoped>\n",
              "    .dataframe tbody tr th:only-of-type {\n",
              "        vertical-align: middle;\n",
              "    }\n",
              "\n",
              "    .dataframe tbody tr th {\n",
              "        vertical-align: top;\n",
              "    }\n",
              "\n",
              "    .dataframe thead th {\n",
              "        text-align: right;\n",
              "    }\n",
              "</style>\n",
              "<table border=\"1\" class=\"dataframe\">\n",
              "  <thead>\n",
              "    <tr style=\"text-align: right;\">\n",
              "      <th></th>\n",
              "      <th>playerId</th>\n",
              "      <th>name</th>\n",
              "      <th>position</th>\n",
              "      <th>team</th>\n",
              "      <th>birthDate</th>\n",
              "      <th>weight</th>\n",
              "      <th>height</th>\n",
              "      <th>nationality</th>\n",
              "      <th>shootsCatches</th>\n",
              "      <th>primaryNumber</th>\n",
              "      <th>primaryPosition</th>\n",
              "    </tr>\n",
              "  </thead>\n",
              "  <tbody>\n",
              "    <tr>\n",
              "      <th>0</th>\n",
              "      <td>8478421</td>\n",
              "      <td>A.J. Greer</td>\n",
              "      <td>L</td>\n",
              "      <td>BOS</td>\n",
              "      <td>1996-12-14</td>\n",
              "      <td>210.0</td>\n",
              "      <td>6' 3\"</td>\n",
              "      <td>CAN</td>\n",
              "      <td>L</td>\n",
              "      <td>24.0</td>\n",
              "      <td>L</td>\n",
              "    </tr>\n",
              "    <tr>\n",
              "      <th>1</th>\n",
              "      <td>8477180</td>\n",
              "      <td>Aaron Dell</td>\n",
              "      <td>G</td>\n",
              "      <td>SJS</td>\n",
              "      <td>1989-05-04</td>\n",
              "      <td>205.0</td>\n",
              "      <td>6' 0\"</td>\n",
              "      <td>CAN</td>\n",
              "      <td>L</td>\n",
              "      <td>30.0</td>\n",
              "      <td>G</td>\n",
              "    </tr>\n",
              "    <tr>\n",
              "      <th>2</th>\n",
              "      <td>8465992</td>\n",
              "      <td>Aaron Downey</td>\n",
              "      <td>R</td>\n",
              "      <td>DET</td>\n",
              "      <td>1974-08-27</td>\n",
              "      <td>215.0</td>\n",
              "      <td>6' 1\"</td>\n",
              "      <td>CAN</td>\n",
              "      <td>R</td>\n",
              "      <td>44.0</td>\n",
              "      <td>R</td>\n",
              "    </tr>\n",
              "    <tr>\n",
              "      <th>3</th>\n",
              "      <td>8477932</td>\n",
              "      <td>Aaron Ekblad</td>\n",
              "      <td>D</td>\n",
              "      <td>FLA</td>\n",
              "      <td>1996-02-07</td>\n",
              "      <td>220.0</td>\n",
              "      <td>6' 4\"</td>\n",
              "      <td>CAN</td>\n",
              "      <td>R</td>\n",
              "      <td>5.0</td>\n",
              "      <td>D</td>\n",
              "    </tr>\n",
              "    <tr>\n",
              "      <th>4</th>\n",
              "      <td>8471451</td>\n",
              "      <td>Aaron Gagnon</td>\n",
              "      <td>C</td>\n",
              "      <td>WPG</td>\n",
              "      <td>1986-04-24</td>\n",
              "      <td>186.0</td>\n",
              "      <td>5' 11\"</td>\n",
              "      <td>CAN</td>\n",
              "      <td>R</td>\n",
              "      <td>21.0</td>\n",
              "      <td>C</td>\n",
              "    </tr>\n",
              "  </tbody>\n",
              "</table>\n",
              "</div>\n",
              "      <button class=\"colab-df-convert\" onclick=\"convertToInteractive('df-40e11f9a-b396-45e0-b3a7-a6bab033a92d')\"\n",
              "              title=\"Convert this dataframe to an interactive table.\"\n",
              "              style=\"display:none;\">\n",
              "        \n",
              "  <svg xmlns=\"http://www.w3.org/2000/svg\" height=\"24px\"viewBox=\"0 0 24 24\"\n",
              "       width=\"24px\">\n",
              "    <path d=\"M0 0h24v24H0V0z\" fill=\"none\"/>\n",
              "    <path d=\"M18.56 5.44l.94 2.06.94-2.06 2.06-.94-2.06-.94-.94-2.06-.94 2.06-2.06.94zm-11 1L8.5 8.5l.94-2.06 2.06-.94-2.06-.94L8.5 2.5l-.94 2.06-2.06.94zm10 10l.94 2.06.94-2.06 2.06-.94-2.06-.94-.94-2.06-.94 2.06-2.06.94z\"/><path d=\"M17.41 7.96l-1.37-1.37c-.4-.4-.92-.59-1.43-.59-.52 0-1.04.2-1.43.59L10.3 9.45l-7.72 7.72c-.78.78-.78 2.05 0 2.83L4 21.41c.39.39.9.59 1.41.59.51 0 1.02-.2 1.41-.59l7.78-7.78 2.81-2.81c.8-.78.8-2.07 0-2.86zM5.41 20L4 18.59l7.72-7.72 1.47 1.35L5.41 20z\"/>\n",
              "  </svg>\n",
              "      </button>\n",
              "      \n",
              "  <style>\n",
              "    .colab-df-container {\n",
              "      display:flex;\n",
              "      flex-wrap:wrap;\n",
              "      gap: 12px;\n",
              "    }\n",
              "\n",
              "    .colab-df-convert {\n",
              "      background-color: #E8F0FE;\n",
              "      border: none;\n",
              "      border-radius: 50%;\n",
              "      cursor: pointer;\n",
              "      display: none;\n",
              "      fill: #1967D2;\n",
              "      height: 32px;\n",
              "      padding: 0 0 0 0;\n",
              "      width: 32px;\n",
              "    }\n",
              "\n",
              "    .colab-df-convert:hover {\n",
              "      background-color: #E2EBFA;\n",
              "      box-shadow: 0px 1px 2px rgba(60, 64, 67, 0.3), 0px 1px 3px 1px rgba(60, 64, 67, 0.15);\n",
              "      fill: #174EA6;\n",
              "    }\n",
              "\n",
              "    [theme=dark] .colab-df-convert {\n",
              "      background-color: #3B4455;\n",
              "      fill: #D2E3FC;\n",
              "    }\n",
              "\n",
              "    [theme=dark] .colab-df-convert:hover {\n",
              "      background-color: #434B5C;\n",
              "      box-shadow: 0px 1px 3px 1px rgba(0, 0, 0, 0.15);\n",
              "      filter: drop-shadow(0px 1px 2px rgba(0, 0, 0, 0.3));\n",
              "      fill: #FFFFFF;\n",
              "    }\n",
              "  </style>\n",
              "\n",
              "      <script>\n",
              "        const buttonEl =\n",
              "          document.querySelector('#df-40e11f9a-b396-45e0-b3a7-a6bab033a92d button.colab-df-convert');\n",
              "        buttonEl.style.display =\n",
              "          google.colab.kernel.accessAllowed ? 'block' : 'none';\n",
              "\n",
              "        async function convertToInteractive(key) {\n",
              "          const element = document.querySelector('#df-40e11f9a-b396-45e0-b3a7-a6bab033a92d');\n",
              "          const dataTable =\n",
              "            await google.colab.kernel.invokeFunction('convertToInteractive',\n",
              "                                                     [key], {});\n",
              "          if (!dataTable) return;\n",
              "\n",
              "          const docLinkHtml = 'Like what you see? Visit the ' +\n",
              "            '<a target=\"_blank\" href=https://colab.research.google.com/notebooks/data_table.ipynb>data table notebook</a>'\n",
              "            + ' to learn more about interactive tables.';\n",
              "          element.innerHTML = '';\n",
              "          dataTable['output_type'] = 'display_data';\n",
              "          await google.colab.output.renderOutput(dataTable, element);\n",
              "          const docLink = document.createElement('div');\n",
              "          docLink.innerHTML = docLinkHtml;\n",
              "          element.appendChild(docLink);\n",
              "        }\n",
              "      </script>\n",
              "    </div>\n",
              "  </div>\n",
              "  "
            ]
          },
          "metadata": {},
          "execution_count": 15
        }
      ]
    },
    {
      "cell_type": "code",
      "source": [
        "# Convert birthday column to datetime type\n",
        "df_player_birthday['bday'] = pd.to_datetime(df_player_birthday['birthDate'])"
      ],
      "metadata": {
        "id": "1f3VT7V8KecA"
      },
      "execution_count": null,
      "outputs": []
    },
    {
      "cell_type": "code",
      "source": [
        "# Calculate age based on reference date (start of 2008 season)\n",
        "reference_date = pd.to_datetime('2008-10-04')"
      ],
      "metadata": {
        "id": "STQJl8myKrYE"
      },
      "execution_count": null,
      "outputs": []
    },
    {
      "cell_type": "code",
      "source": [
        "df_player_birthday['age'] = (reference_date - df_player_birthday['bday']).astype('<m8[Y]')"
      ],
      "metadata": {
        "id": "AYtrZZ1KKwDq"
      },
      "execution_count": null,
      "outputs": []
    },
    {
      "cell_type": "code",
      "source": [
        "# Merge the dataframes on the 'ID' column for the 2008 season\n",
        "merged_data = pd.merge(df_player_birthday, input_dfs['year2008'], on='playerId', how='inner')"
      ],
      "metadata": {
        "id": "QNpKMIVMLPqN"
      },
      "execution_count": null,
      "outputs": []
    },
    {
      "cell_type": "code",
      "source": [
        "merged_data"
      ],
      "metadata": {
        "colab": {
          "base_uri": "https://localhost:8080/",
          "height": 661
        },
        "id": "j9p05obeLYAC",
        "outputId": "c743f3a4-4b25-4bae-bdd7-7e5c7738018d"
      },
      "execution_count": null,
      "outputs": [
        {
          "output_type": "execute_result",
          "data": {
            "text/plain": [
              "     playerId             name position team   birthDate  weight  height  \\\n",
              "0     8469672      Aaron Voros        L  ANA  1981-07-02   210.0   6' 2\"   \n",
              "1     8458519       Aaron Ward        D  ANA  1973-01-17   209.0   6' 2\"   \n",
              "2     8470063      Adam Burish        R  S.J  1983-01-06   195.0   6' 1\"   \n",
              "3     8456283       Adam Foote        D  COL  1971-07-10   220.0   6' 2\"   \n",
              "4     8467925        Adam Hall        R  PHI  1980-08-14   212.0   6' 2\"   \n",
              "..        ...              ...      ...  ...         ...     ...     ...   \n",
              "527   8471234    Wojtek Wolski        L  WSH  1986-02-24   215.0   6' 3\"   \n",
              "528   8474567    Zach Bogosian        D  TBL  1990-07-15   226.0   6' 3\"   \n",
              "529   8470610      Zach Parise        L  NYI  1984-07-28   193.0  5' 11\"   \n",
              "530   8469760  Zbynek Michalek        D  ARI  1982-12-23   210.0   6' 2\"   \n",
              "531   8465009      Zdeno Chara        D  NYI  1977-03-18   250.0   6' 9\"   \n",
              "\n",
              "    nationality shootsCatches  primaryNumber  ... OnIce_F_shotsOnGoal  \\\n",
              "0           CAN             L           34.0  ...           35.686191   \n",
              "1           CAN             R            4.0  ...           26.181459   \n",
              "2           USA             R           37.0  ...           25.319377   \n",
              "3           CAN             R           52.0  ...           21.219645   \n",
              "4           USA             R           18.0  ...           22.726461   \n",
              "..          ...           ...            ...  ...                 ...   \n",
              "527         CAN             L           17.0  ...           30.199728   \n",
              "528         USA             R            4.0  ...           30.924883   \n",
              "529         USA             L           11.0  ...           44.041350   \n",
              "530         CZE             R            4.0  ...           24.027783   \n",
              "531         SVK             L           33.0  ...           32.497755   \n",
              "\n",
              "    OnIce_F_shotAttempts  OnIce_F_goals  OnIce_F_rebounds  \\\n",
              "0              66.684384       2.296162          2.487509   \n",
              "1              47.917010       2.371151          1.284373   \n",
              "2              40.649468       1.681365          1.582461   \n",
              "3              37.134379       1.380730          1.671410   \n",
              "4              37.948901       1.143470          1.786671   \n",
              "..                   ...            ...               ...   \n",
              "527            53.079578       2.551501          2.676984   \n",
              "528            52.434857       4.054596          2.611435   \n",
              "529            73.688317       4.447045          3.315779   \n",
              "530            42.748616       2.246500          1.367435   \n",
              "531            56.987551       3.610862          1.688951   \n",
              "\n",
              "     OnIce_F_reboundGoals  OnIce_A_shotsOnGoal  OnIce_A_shotAttempts  \\\n",
              "0                0.287020            26.501541             42.957372   \n",
              "1                0.345793            32.702124             59.130578   \n",
              "2                0.197808            30.066760             54.199291   \n",
              "3                0.145340            36.553019             68.818507   \n",
              "4                0.285867            33.946757             61.247097   \n",
              "..                    ...                  ...                   ...   \n",
              "527              0.501935            29.237687             56.425808   \n",
              "528              0.755942            33.330152             59.444497   \n",
              "529              1.326312            23.210454             40.803589   \n",
              "530              0.293022            33.013783             65.571754   \n",
              "531              0.407678            29.818729             51.600379   \n",
              "\n",
              "     OnIce_A_goals  OnIce_A_rebounds  OnIce_A_reboundGoals  \n",
              "0         2.774530          1.435102              0.574041  \n",
              "1         2.371151          2.025358              0.444591  \n",
              "2         2.373692          1.384653              0.296711  \n",
              "3         3.560831          2.761461              0.581360  \n",
              "4         3.073075          2.358406              1.000536  \n",
              "..             ...               ...                   ...  \n",
              "527       2.676984          2.384189              0.292795  \n",
              "528       3.298654          2.405269              0.824664  \n",
              "529       1.716403          1.443339              0.273064  \n",
              "530       3.874399          1.758130              0.683717  \n",
              "531       2.504307          1.630712              0.320318  \n",
              "\n",
              "[532 rows x 49 columns]"
            ],
            "text/html": [
              "\n",
              "  <div id=\"df-cf334208-f040-4801-9283-0a3bd18740e0\">\n",
              "    <div class=\"colab-df-container\">\n",
              "      <div>\n",
              "<style scoped>\n",
              "    .dataframe tbody tr th:only-of-type {\n",
              "        vertical-align: middle;\n",
              "    }\n",
              "\n",
              "    .dataframe tbody tr th {\n",
              "        vertical-align: top;\n",
              "    }\n",
              "\n",
              "    .dataframe thead th {\n",
              "        text-align: right;\n",
              "    }\n",
              "</style>\n",
              "<table border=\"1\" class=\"dataframe\">\n",
              "  <thead>\n",
              "    <tr style=\"text-align: right;\">\n",
              "      <th></th>\n",
              "      <th>playerId</th>\n",
              "      <th>name</th>\n",
              "      <th>position</th>\n",
              "      <th>team</th>\n",
              "      <th>birthDate</th>\n",
              "      <th>weight</th>\n",
              "      <th>height</th>\n",
              "      <th>nationality</th>\n",
              "      <th>shootsCatches</th>\n",
              "      <th>primaryNumber</th>\n",
              "      <th>...</th>\n",
              "      <th>OnIce_F_shotsOnGoal</th>\n",
              "      <th>OnIce_F_shotAttempts</th>\n",
              "      <th>OnIce_F_goals</th>\n",
              "      <th>OnIce_F_rebounds</th>\n",
              "      <th>OnIce_F_reboundGoals</th>\n",
              "      <th>OnIce_A_shotsOnGoal</th>\n",
              "      <th>OnIce_A_shotAttempts</th>\n",
              "      <th>OnIce_A_goals</th>\n",
              "      <th>OnIce_A_rebounds</th>\n",
              "      <th>OnIce_A_reboundGoals</th>\n",
              "    </tr>\n",
              "  </thead>\n",
              "  <tbody>\n",
              "    <tr>\n",
              "      <th>0</th>\n",
              "      <td>8469672</td>\n",
              "      <td>Aaron Voros</td>\n",
              "      <td>L</td>\n",
              "      <td>ANA</td>\n",
              "      <td>1981-07-02</td>\n",
              "      <td>210.0</td>\n",
              "      <td>6' 2\"</td>\n",
              "      <td>CAN</td>\n",
              "      <td>L</td>\n",
              "      <td>34.0</td>\n",
              "      <td>...</td>\n",
              "      <td>35.686191</td>\n",
              "      <td>66.684384</td>\n",
              "      <td>2.296162</td>\n",
              "      <td>2.487509</td>\n",
              "      <td>0.287020</td>\n",
              "      <td>26.501541</td>\n",
              "      <td>42.957372</td>\n",
              "      <td>2.774530</td>\n",
              "      <td>1.435102</td>\n",
              "      <td>0.574041</td>\n",
              "    </tr>\n",
              "    <tr>\n",
              "      <th>1</th>\n",
              "      <td>8458519</td>\n",
              "      <td>Aaron Ward</td>\n",
              "      <td>D</td>\n",
              "      <td>ANA</td>\n",
              "      <td>1973-01-17</td>\n",
              "      <td>209.0</td>\n",
              "      <td>6' 2\"</td>\n",
              "      <td>CAN</td>\n",
              "      <td>R</td>\n",
              "      <td>4.0</td>\n",
              "      <td>...</td>\n",
              "      <td>26.181459</td>\n",
              "      <td>47.917010</td>\n",
              "      <td>2.371151</td>\n",
              "      <td>1.284373</td>\n",
              "      <td>0.345793</td>\n",
              "      <td>32.702124</td>\n",
              "      <td>59.130578</td>\n",
              "      <td>2.371151</td>\n",
              "      <td>2.025358</td>\n",
              "      <td>0.444591</td>\n",
              "    </tr>\n",
              "    <tr>\n",
              "      <th>2</th>\n",
              "      <td>8470063</td>\n",
              "      <td>Adam Burish</td>\n",
              "      <td>R</td>\n",
              "      <td>S.J</td>\n",
              "      <td>1983-01-06</td>\n",
              "      <td>195.0</td>\n",
              "      <td>6' 1\"</td>\n",
              "      <td>USA</td>\n",
              "      <td>R</td>\n",
              "      <td>37.0</td>\n",
              "      <td>...</td>\n",
              "      <td>25.319377</td>\n",
              "      <td>40.649468</td>\n",
              "      <td>1.681365</td>\n",
              "      <td>1.582461</td>\n",
              "      <td>0.197808</td>\n",
              "      <td>30.066760</td>\n",
              "      <td>54.199291</td>\n",
              "      <td>2.373692</td>\n",
              "      <td>1.384653</td>\n",
              "      <td>0.296711</td>\n",
              "    </tr>\n",
              "    <tr>\n",
              "      <th>3</th>\n",
              "      <td>8456283</td>\n",
              "      <td>Adam Foote</td>\n",
              "      <td>D</td>\n",
              "      <td>COL</td>\n",
              "      <td>1971-07-10</td>\n",
              "      <td>220.0</td>\n",
              "      <td>6' 2\"</td>\n",
              "      <td>CAN</td>\n",
              "      <td>R</td>\n",
              "      <td>52.0</td>\n",
              "      <td>...</td>\n",
              "      <td>21.219645</td>\n",
              "      <td>37.134379</td>\n",
              "      <td>1.380730</td>\n",
              "      <td>1.671410</td>\n",
              "      <td>0.145340</td>\n",
              "      <td>36.553019</td>\n",
              "      <td>68.818507</td>\n",
              "      <td>3.560831</td>\n",
              "      <td>2.761461</td>\n",
              "      <td>0.581360</td>\n",
              "    </tr>\n",
              "    <tr>\n",
              "      <th>4</th>\n",
              "      <td>8467925</td>\n",
              "      <td>Adam Hall</td>\n",
              "      <td>R</td>\n",
              "      <td>PHI</td>\n",
              "      <td>1980-08-14</td>\n",
              "      <td>212.0</td>\n",
              "      <td>6' 2\"</td>\n",
              "      <td>USA</td>\n",
              "      <td>R</td>\n",
              "      <td>18.0</td>\n",
              "      <td>...</td>\n",
              "      <td>22.726461</td>\n",
              "      <td>37.948901</td>\n",
              "      <td>1.143470</td>\n",
              "      <td>1.786671</td>\n",
              "      <td>0.285867</td>\n",
              "      <td>33.946757</td>\n",
              "      <td>61.247097</td>\n",
              "      <td>3.073075</td>\n",
              "      <td>2.358406</td>\n",
              "      <td>1.000536</td>\n",
              "    </tr>\n",
              "    <tr>\n",
              "      <th>...</th>\n",
              "      <td>...</td>\n",
              "      <td>...</td>\n",
              "      <td>...</td>\n",
              "      <td>...</td>\n",
              "      <td>...</td>\n",
              "      <td>...</td>\n",
              "      <td>...</td>\n",
              "      <td>...</td>\n",
              "      <td>...</td>\n",
              "      <td>...</td>\n",
              "      <td>...</td>\n",
              "      <td>...</td>\n",
              "      <td>...</td>\n",
              "      <td>...</td>\n",
              "      <td>...</td>\n",
              "      <td>...</td>\n",
              "      <td>...</td>\n",
              "      <td>...</td>\n",
              "      <td>...</td>\n",
              "      <td>...</td>\n",
              "      <td>...</td>\n",
              "    </tr>\n",
              "    <tr>\n",
              "      <th>527</th>\n",
              "      <td>8471234</td>\n",
              "      <td>Wojtek Wolski</td>\n",
              "      <td>L</td>\n",
              "      <td>WSH</td>\n",
              "      <td>1986-02-24</td>\n",
              "      <td>215.0</td>\n",
              "      <td>6' 3\"</td>\n",
              "      <td>CAN</td>\n",
              "      <td>L</td>\n",
              "      <td>17.0</td>\n",
              "      <td>...</td>\n",
              "      <td>30.199728</td>\n",
              "      <td>53.079578</td>\n",
              "      <td>2.551501</td>\n",
              "      <td>2.676984</td>\n",
              "      <td>0.501935</td>\n",
              "      <td>29.237687</td>\n",
              "      <td>56.425808</td>\n",
              "      <td>2.676984</td>\n",
              "      <td>2.384189</td>\n",
              "      <td>0.292795</td>\n",
              "    </tr>\n",
              "    <tr>\n",
              "      <th>528</th>\n",
              "      <td>8474567</td>\n",
              "      <td>Zach Bogosian</td>\n",
              "      <td>D</td>\n",
              "      <td>TBL</td>\n",
              "      <td>1990-07-15</td>\n",
              "      <td>226.0</td>\n",
              "      <td>6' 3\"</td>\n",
              "      <td>USA</td>\n",
              "      <td>R</td>\n",
              "      <td>4.0</td>\n",
              "      <td>...</td>\n",
              "      <td>30.924883</td>\n",
              "      <td>52.434857</td>\n",
              "      <td>4.054596</td>\n",
              "      <td>2.611435</td>\n",
              "      <td>0.755942</td>\n",
              "      <td>33.330152</td>\n",
              "      <td>59.444497</td>\n",
              "      <td>3.298654</td>\n",
              "      <td>2.405269</td>\n",
              "      <td>0.824664</td>\n",
              "    </tr>\n",
              "    <tr>\n",
              "      <th>529</th>\n",
              "      <td>8470610</td>\n",
              "      <td>Zach Parise</td>\n",
              "      <td>L</td>\n",
              "      <td>NYI</td>\n",
              "      <td>1984-07-28</td>\n",
              "      <td>193.0</td>\n",
              "      <td>5' 11\"</td>\n",
              "      <td>USA</td>\n",
              "      <td>L</td>\n",
              "      <td>11.0</td>\n",
              "      <td>...</td>\n",
              "      <td>44.041350</td>\n",
              "      <td>73.688317</td>\n",
              "      <td>4.447045</td>\n",
              "      <td>3.315779</td>\n",
              "      <td>1.326312</td>\n",
              "      <td>23.210454</td>\n",
              "      <td>40.803589</td>\n",
              "      <td>1.716403</td>\n",
              "      <td>1.443339</td>\n",
              "      <td>0.273064</td>\n",
              "    </tr>\n",
              "    <tr>\n",
              "      <th>530</th>\n",
              "      <td>8469760</td>\n",
              "      <td>Zbynek Michalek</td>\n",
              "      <td>D</td>\n",
              "      <td>ARI</td>\n",
              "      <td>1982-12-23</td>\n",
              "      <td>210.0</td>\n",
              "      <td>6' 2\"</td>\n",
              "      <td>CZE</td>\n",
              "      <td>R</td>\n",
              "      <td>4.0</td>\n",
              "      <td>...</td>\n",
              "      <td>24.027783</td>\n",
              "      <td>42.748616</td>\n",
              "      <td>2.246500</td>\n",
              "      <td>1.367435</td>\n",
              "      <td>0.293022</td>\n",
              "      <td>33.013783</td>\n",
              "      <td>65.571754</td>\n",
              "      <td>3.874399</td>\n",
              "      <td>1.758130</td>\n",
              "      <td>0.683717</td>\n",
              "    </tr>\n",
              "    <tr>\n",
              "      <th>531</th>\n",
              "      <td>8465009</td>\n",
              "      <td>Zdeno Chara</td>\n",
              "      <td>D</td>\n",
              "      <td>NYI</td>\n",
              "      <td>1977-03-18</td>\n",
              "      <td>250.0</td>\n",
              "      <td>6' 9\"</td>\n",
              "      <td>SVK</td>\n",
              "      <td>L</td>\n",
              "      <td>33.0</td>\n",
              "      <td>...</td>\n",
              "      <td>32.497755</td>\n",
              "      <td>56.987551</td>\n",
              "      <td>3.610862</td>\n",
              "      <td>1.688951</td>\n",
              "      <td>0.407678</td>\n",
              "      <td>29.818729</td>\n",
              "      <td>51.600379</td>\n",
              "      <td>2.504307</td>\n",
              "      <td>1.630712</td>\n",
              "      <td>0.320318</td>\n",
              "    </tr>\n",
              "  </tbody>\n",
              "</table>\n",
              "<p>532 rows × 49 columns</p>\n",
              "</div>\n",
              "      <button class=\"colab-df-convert\" onclick=\"convertToInteractive('df-cf334208-f040-4801-9283-0a3bd18740e0')\"\n",
              "              title=\"Convert this dataframe to an interactive table.\"\n",
              "              style=\"display:none;\">\n",
              "        \n",
              "  <svg xmlns=\"http://www.w3.org/2000/svg\" height=\"24px\"viewBox=\"0 0 24 24\"\n",
              "       width=\"24px\">\n",
              "    <path d=\"M0 0h24v24H0V0z\" fill=\"none\"/>\n",
              "    <path d=\"M18.56 5.44l.94 2.06.94-2.06 2.06-.94-2.06-.94-.94-2.06-.94 2.06-2.06.94zm-11 1L8.5 8.5l.94-2.06 2.06-.94-2.06-.94L8.5 2.5l-.94 2.06-2.06.94zm10 10l.94 2.06.94-2.06 2.06-.94-2.06-.94-.94-2.06-.94 2.06-2.06.94z\"/><path d=\"M17.41 7.96l-1.37-1.37c-.4-.4-.92-.59-1.43-.59-.52 0-1.04.2-1.43.59L10.3 9.45l-7.72 7.72c-.78.78-.78 2.05 0 2.83L4 21.41c.39.39.9.59 1.41.59.51 0 1.02-.2 1.41-.59l7.78-7.78 2.81-2.81c.8-.78.8-2.07 0-2.86zM5.41 20L4 18.59l7.72-7.72 1.47 1.35L5.41 20z\"/>\n",
              "  </svg>\n",
              "      </button>\n",
              "      \n",
              "  <style>\n",
              "    .colab-df-container {\n",
              "      display:flex;\n",
              "      flex-wrap:wrap;\n",
              "      gap: 12px;\n",
              "    }\n",
              "\n",
              "    .colab-df-convert {\n",
              "      background-color: #E8F0FE;\n",
              "      border: none;\n",
              "      border-radius: 50%;\n",
              "      cursor: pointer;\n",
              "      display: none;\n",
              "      fill: #1967D2;\n",
              "      height: 32px;\n",
              "      padding: 0 0 0 0;\n",
              "      width: 32px;\n",
              "    }\n",
              "\n",
              "    .colab-df-convert:hover {\n",
              "      background-color: #E2EBFA;\n",
              "      box-shadow: 0px 1px 2px rgba(60, 64, 67, 0.3), 0px 1px 3px 1px rgba(60, 64, 67, 0.15);\n",
              "      fill: #174EA6;\n",
              "    }\n",
              "\n",
              "    [theme=dark] .colab-df-convert {\n",
              "      background-color: #3B4455;\n",
              "      fill: #D2E3FC;\n",
              "    }\n",
              "\n",
              "    [theme=dark] .colab-df-convert:hover {\n",
              "      background-color: #434B5C;\n",
              "      box-shadow: 0px 1px 3px 1px rgba(0, 0, 0, 0.15);\n",
              "      filter: drop-shadow(0px 1px 2px rgba(0, 0, 0, 0.3));\n",
              "      fill: #FFFFFF;\n",
              "    }\n",
              "  </style>\n",
              "\n",
              "      <script>\n",
              "        const buttonEl =\n",
              "          document.querySelector('#df-cf334208-f040-4801-9283-0a3bd18740e0 button.colab-df-convert');\n",
              "        buttonEl.style.display =\n",
              "          google.colab.kernel.accessAllowed ? 'block' : 'none';\n",
              "\n",
              "        async function convertToInteractive(key) {\n",
              "          const element = document.querySelector('#df-cf334208-f040-4801-9283-0a3bd18740e0');\n",
              "          const dataTable =\n",
              "            await google.colab.kernel.invokeFunction('convertToInteractive',\n",
              "                                                     [key], {});\n",
              "          if (!dataTable) return;\n",
              "\n",
              "          const docLinkHtml = 'Like what you see? Visit the ' +\n",
              "            '<a target=\"_blank\" href=https://colab.research.google.com/notebooks/data_table.ipynb>data table notebook</a>'\n",
              "            + ' to learn more about interactive tables.';\n",
              "          element.innerHTML = '';\n",
              "          dataTable['output_type'] = 'display_data';\n",
              "          await google.colab.output.renderOutput(dataTable, element);\n",
              "          const docLink = document.createElement('div');\n",
              "          docLink.innerHTML = docLinkHtml;\n",
              "          element.appendChild(docLink);\n",
              "        }\n",
              "      </script>\n",
              "    </div>\n",
              "  </div>\n",
              "  "
            ]
          },
          "metadata": {},
          "execution_count": 20
        }
      ]
    },
    {
      "cell_type": "code",
      "source": [
        "assert len(input_dfs['year2008']) == len(merged_data), 'id not found?'"
      ],
      "metadata": {
        "id": "6msNDK15Mea9"
      },
      "execution_count": null,
      "outputs": []
    },
    {
      "cell_type": "code",
      "source": [
        "# Filter the merged data based on the desired age\n",
        "# we say you are a rookie if you were under the age of 21 heading into the\n",
        "# 2008 season (10-04-2008). Although this will include some non-rookies,\n",
        "# and also leave out some rookies, it's fairly negligable. Again, future\n",
        "# approaches can consider a better way to identify rookies (or work\n",
        "# with the partial timeseries)\n",
        "certain_age = 21\n",
        "rookie_data = merged_data[merged_data['age'] < certain_age]"
      ],
      "metadata": {
        "id": "HR1xKP_ZLgJv"
      },
      "execution_count": null,
      "outputs": []
    },
    {
      "cell_type": "code",
      "source": [
        "# experimentally found to have 28 rookies\n",
        "assert len(rookie_data) == 28"
      ],
      "metadata": {
        "id": "OxzkjehqMuOT"
      },
      "execution_count": null,
      "outputs": []
    },
    {
      "cell_type": "code",
      "source": [
        "rookie_data.head()"
      ],
      "metadata": {
        "colab": {
          "base_uri": "https://localhost:8080/",
          "height": 386
        },
        "id": "Kc8PmWULLsT4",
        "outputId": "343372aa-24a4-4233-c9af-ce164debe8d5"
      },
      "execution_count": null,
      "outputs": [
        {
          "output_type": "execute_result",
          "data": {
            "text/plain": [
              "     playerId             name position team   birthDate  weight  height  \\\n",
              "82    8473412     Bryan Little        C  WPG  1987-11-12   191.0   6' 0\"   \n",
              "85    8473504  Cal Clutterbuck        R  NYI  1987-11-18   216.0  5' 11\"   \n",
              "98    8473485    Chris Stewart        R  PHI  1987-10-30   242.0   6' 2\"   \n",
              "105   8473512    Claude Giroux        R  OTT  1988-01-12   185.0  5' 11\"   \n",
              "138   8474102     David Perron        L  DET  1988-05-28   200.0   6' 0\"   \n",
              "\n",
              "    nationality shootsCatches  primaryNumber  ... OnIce_F_shotsOnGoal  \\\n",
              "82          CAN             R           18.0  ...           33.787836   \n",
              "85          CAN             R           15.0  ...           23.962134   \n",
              "98          CAN             R            8.0  ...           28.657448   \n",
              "105         CAN             R           28.0  ...           32.228679   \n",
              "138         CAN             R           57.0  ...           32.842714   \n",
              "\n",
              "    OnIce_F_shotAttempts  OnIce_F_goals  OnIce_F_rebounds  \\\n",
              "82             59.533031       4.589551          3.015991   \n",
              "85             44.906814       1.774973          0.887486   \n",
              "98             51.252743       1.928867          2.112568   \n",
              "105            59.274384       3.298257          1.884718   \n",
              "138            59.106685       3.518862          2.243912   \n",
              "\n",
              "     OnIce_F_reboundGoals  OnIce_A_shotsOnGoal  OnIce_A_shotAttempts  \\\n",
              "82               0.874200            25.920035             43.753718   \n",
              "85               0.177497            30.943694             56.739966   \n",
              "98               0.367403            32.239629             61.723733   \n",
              "105              0.848123            28.553479             52.772106   \n",
              "138              0.458982            20.960179             39.982434   \n",
              "\n",
              "     OnIce_A_goals  OnIce_A_rebounds  OnIce_A_reboundGoals  \n",
              "82        2.884861          1.486140              0.524520  \n",
              "85        2.011636          1.597476              0.177497  \n",
              "98        3.214778          2.847375              0.734806  \n",
              "105       1.978954          1.507774              0.471180  \n",
              "138       1.529940          1.274950              0.203992  \n",
              "\n",
              "[5 rows x 49 columns]"
            ],
            "text/html": [
              "\n",
              "  <div id=\"df-dae9cce5-f994-48eb-b596-7bd6fcade1c1\">\n",
              "    <div class=\"colab-df-container\">\n",
              "      <div>\n",
              "<style scoped>\n",
              "    .dataframe tbody tr th:only-of-type {\n",
              "        vertical-align: middle;\n",
              "    }\n",
              "\n",
              "    .dataframe tbody tr th {\n",
              "        vertical-align: top;\n",
              "    }\n",
              "\n",
              "    .dataframe thead th {\n",
              "        text-align: right;\n",
              "    }\n",
              "</style>\n",
              "<table border=\"1\" class=\"dataframe\">\n",
              "  <thead>\n",
              "    <tr style=\"text-align: right;\">\n",
              "      <th></th>\n",
              "      <th>playerId</th>\n",
              "      <th>name</th>\n",
              "      <th>position</th>\n",
              "      <th>team</th>\n",
              "      <th>birthDate</th>\n",
              "      <th>weight</th>\n",
              "      <th>height</th>\n",
              "      <th>nationality</th>\n",
              "      <th>shootsCatches</th>\n",
              "      <th>primaryNumber</th>\n",
              "      <th>...</th>\n",
              "      <th>OnIce_F_shotsOnGoal</th>\n",
              "      <th>OnIce_F_shotAttempts</th>\n",
              "      <th>OnIce_F_goals</th>\n",
              "      <th>OnIce_F_rebounds</th>\n",
              "      <th>OnIce_F_reboundGoals</th>\n",
              "      <th>OnIce_A_shotsOnGoal</th>\n",
              "      <th>OnIce_A_shotAttempts</th>\n",
              "      <th>OnIce_A_goals</th>\n",
              "      <th>OnIce_A_rebounds</th>\n",
              "      <th>OnIce_A_reboundGoals</th>\n",
              "    </tr>\n",
              "  </thead>\n",
              "  <tbody>\n",
              "    <tr>\n",
              "      <th>82</th>\n",
              "      <td>8473412</td>\n",
              "      <td>Bryan Little</td>\n",
              "      <td>C</td>\n",
              "      <td>WPG</td>\n",
              "      <td>1987-11-12</td>\n",
              "      <td>191.0</td>\n",
              "      <td>6' 0\"</td>\n",
              "      <td>CAN</td>\n",
              "      <td>R</td>\n",
              "      <td>18.0</td>\n",
              "      <td>...</td>\n",
              "      <td>33.787836</td>\n",
              "      <td>59.533031</td>\n",
              "      <td>4.589551</td>\n",
              "      <td>3.015991</td>\n",
              "      <td>0.874200</td>\n",
              "      <td>25.920035</td>\n",
              "      <td>43.753718</td>\n",
              "      <td>2.884861</td>\n",
              "      <td>1.486140</td>\n",
              "      <td>0.524520</td>\n",
              "    </tr>\n",
              "    <tr>\n",
              "      <th>85</th>\n",
              "      <td>8473504</td>\n",
              "      <td>Cal Clutterbuck</td>\n",
              "      <td>R</td>\n",
              "      <td>NYI</td>\n",
              "      <td>1987-11-18</td>\n",
              "      <td>216.0</td>\n",
              "      <td>5' 11\"</td>\n",
              "      <td>CAN</td>\n",
              "      <td>R</td>\n",
              "      <td>15.0</td>\n",
              "      <td>...</td>\n",
              "      <td>23.962134</td>\n",
              "      <td>44.906814</td>\n",
              "      <td>1.774973</td>\n",
              "      <td>0.887486</td>\n",
              "      <td>0.177497</td>\n",
              "      <td>30.943694</td>\n",
              "      <td>56.739966</td>\n",
              "      <td>2.011636</td>\n",
              "      <td>1.597476</td>\n",
              "      <td>0.177497</td>\n",
              "    </tr>\n",
              "    <tr>\n",
              "      <th>98</th>\n",
              "      <td>8473485</td>\n",
              "      <td>Chris Stewart</td>\n",
              "      <td>R</td>\n",
              "      <td>PHI</td>\n",
              "      <td>1987-10-30</td>\n",
              "      <td>242.0</td>\n",
              "      <td>6' 2\"</td>\n",
              "      <td>CAN</td>\n",
              "      <td>R</td>\n",
              "      <td>8.0</td>\n",
              "      <td>...</td>\n",
              "      <td>28.657448</td>\n",
              "      <td>51.252743</td>\n",
              "      <td>1.928867</td>\n",
              "      <td>2.112568</td>\n",
              "      <td>0.367403</td>\n",
              "      <td>32.239629</td>\n",
              "      <td>61.723733</td>\n",
              "      <td>3.214778</td>\n",
              "      <td>2.847375</td>\n",
              "      <td>0.734806</td>\n",
              "    </tr>\n",
              "    <tr>\n",
              "      <th>105</th>\n",
              "      <td>8473512</td>\n",
              "      <td>Claude Giroux</td>\n",
              "      <td>R</td>\n",
              "      <td>OTT</td>\n",
              "      <td>1988-01-12</td>\n",
              "      <td>185.0</td>\n",
              "      <td>5' 11\"</td>\n",
              "      <td>CAN</td>\n",
              "      <td>R</td>\n",
              "      <td>28.0</td>\n",
              "      <td>...</td>\n",
              "      <td>32.228679</td>\n",
              "      <td>59.274384</td>\n",
              "      <td>3.298257</td>\n",
              "      <td>1.884718</td>\n",
              "      <td>0.848123</td>\n",
              "      <td>28.553479</td>\n",
              "      <td>52.772106</td>\n",
              "      <td>1.978954</td>\n",
              "      <td>1.507774</td>\n",
              "      <td>0.471180</td>\n",
              "    </tr>\n",
              "    <tr>\n",
              "      <th>138</th>\n",
              "      <td>8474102</td>\n",
              "      <td>David Perron</td>\n",
              "      <td>L</td>\n",
              "      <td>DET</td>\n",
              "      <td>1988-05-28</td>\n",
              "      <td>200.0</td>\n",
              "      <td>6' 0\"</td>\n",
              "      <td>CAN</td>\n",
              "      <td>R</td>\n",
              "      <td>57.0</td>\n",
              "      <td>...</td>\n",
              "      <td>32.842714</td>\n",
              "      <td>59.106685</td>\n",
              "      <td>3.518862</td>\n",
              "      <td>2.243912</td>\n",
              "      <td>0.458982</td>\n",
              "      <td>20.960179</td>\n",
              "      <td>39.982434</td>\n",
              "      <td>1.529940</td>\n",
              "      <td>1.274950</td>\n",
              "      <td>0.203992</td>\n",
              "    </tr>\n",
              "  </tbody>\n",
              "</table>\n",
              "<p>5 rows × 49 columns</p>\n",
              "</div>\n",
              "      <button class=\"colab-df-convert\" onclick=\"convertToInteractive('df-dae9cce5-f994-48eb-b596-7bd6fcade1c1')\"\n",
              "              title=\"Convert this dataframe to an interactive table.\"\n",
              "              style=\"display:none;\">\n",
              "        \n",
              "  <svg xmlns=\"http://www.w3.org/2000/svg\" height=\"24px\"viewBox=\"0 0 24 24\"\n",
              "       width=\"24px\">\n",
              "    <path d=\"M0 0h24v24H0V0z\" fill=\"none\"/>\n",
              "    <path d=\"M18.56 5.44l.94 2.06.94-2.06 2.06-.94-2.06-.94-.94-2.06-.94 2.06-2.06.94zm-11 1L8.5 8.5l.94-2.06 2.06-.94-2.06-.94L8.5 2.5l-.94 2.06-2.06.94zm10 10l.94 2.06.94-2.06 2.06-.94-2.06-.94-.94-2.06-.94 2.06-2.06.94z\"/><path d=\"M17.41 7.96l-1.37-1.37c-.4-.4-.92-.59-1.43-.59-.52 0-1.04.2-1.43.59L10.3 9.45l-7.72 7.72c-.78.78-.78 2.05 0 2.83L4 21.41c.39.39.9.59 1.41.59.51 0 1.02-.2 1.41-.59l7.78-7.78 2.81-2.81c.8-.78.8-2.07 0-2.86zM5.41 20L4 18.59l7.72-7.72 1.47 1.35L5.41 20z\"/>\n",
              "  </svg>\n",
              "      </button>\n",
              "      \n",
              "  <style>\n",
              "    .colab-df-container {\n",
              "      display:flex;\n",
              "      flex-wrap:wrap;\n",
              "      gap: 12px;\n",
              "    }\n",
              "\n",
              "    .colab-df-convert {\n",
              "      background-color: #E8F0FE;\n",
              "      border: none;\n",
              "      border-radius: 50%;\n",
              "      cursor: pointer;\n",
              "      display: none;\n",
              "      fill: #1967D2;\n",
              "      height: 32px;\n",
              "      padding: 0 0 0 0;\n",
              "      width: 32px;\n",
              "    }\n",
              "\n",
              "    .colab-df-convert:hover {\n",
              "      background-color: #E2EBFA;\n",
              "      box-shadow: 0px 1px 2px rgba(60, 64, 67, 0.3), 0px 1px 3px 1px rgba(60, 64, 67, 0.15);\n",
              "      fill: #174EA6;\n",
              "    }\n",
              "\n",
              "    [theme=dark] .colab-df-convert {\n",
              "      background-color: #3B4455;\n",
              "      fill: #D2E3FC;\n",
              "    }\n",
              "\n",
              "    [theme=dark] .colab-df-convert:hover {\n",
              "      background-color: #434B5C;\n",
              "      box-shadow: 0px 1px 3px 1px rgba(0, 0, 0, 0.15);\n",
              "      filter: drop-shadow(0px 1px 2px rgba(0, 0, 0, 0.3));\n",
              "      fill: #FFFFFF;\n",
              "    }\n",
              "  </style>\n",
              "\n",
              "      <script>\n",
              "        const buttonEl =\n",
              "          document.querySelector('#df-dae9cce5-f994-48eb-b596-7bd6fcade1c1 button.colab-df-convert');\n",
              "        buttonEl.style.display =\n",
              "          google.colab.kernel.accessAllowed ? 'block' : 'none';\n",
              "\n",
              "        async function convertToInteractive(key) {\n",
              "          const element = document.querySelector('#df-dae9cce5-f994-48eb-b596-7bd6fcade1c1');\n",
              "          const dataTable =\n",
              "            await google.colab.kernel.invokeFunction('convertToInteractive',\n",
              "                                                     [key], {});\n",
              "          if (!dataTable) return;\n",
              "\n",
              "          const docLinkHtml = 'Like what you see? Visit the ' +\n",
              "            '<a target=\"_blank\" href=https://colab.research.google.com/notebooks/data_table.ipynb>data table notebook</a>'\n",
              "            + ' to learn more about interactive tables.';\n",
              "          element.innerHTML = '';\n",
              "          dataTable['output_type'] = 'display_data';\n",
              "          await google.colab.output.renderOutput(dataTable, element);\n",
              "          const docLink = document.createElement('div');\n",
              "          docLink.innerHTML = docLinkHtml;\n",
              "          element.appendChild(docLink);\n",
              "        }\n",
              "      </script>\n",
              "    </div>\n",
              "  </div>\n",
              "  "
            ]
          },
          "metadata": {},
          "execution_count": 24
        }
      ]
    },
    {
      "cell_type": "code",
      "source": [
        "# get a list of playerId's who are veterans (not rookies), because we\n",
        "# want to ignore them going forward. (This also means that if a veteran\n",
        "# missed the 2008 season, we will think they are a rookie going forward!\n",
        "# not best solution, but ok)\n",
        "vet_ids = merged_data[~((merged_data['age'] < certain_age))]['playerId']\n",
        "assert len(vet_ids) == 504 # experimentally found\n",
        "assert len(vet_ids) + len(rookie_data) == len(input_dfs['year2008'])"
      ],
      "metadata": {
        "id": "Ggiy7mQhQfuG"
      },
      "execution_count": null,
      "outputs": []
    },
    {
      "cell_type": "code",
      "source": [
        "vet_ids"
      ],
      "metadata": {
        "colab": {
          "base_uri": "https://localhost:8080/"
        },
        "id": "NGQcl-RkUHDW",
        "outputId": "991802e2-8f00-4b0e-e97e-56e7cfce4579"
      },
      "execution_count": null,
      "outputs": [
        {
          "output_type": "execute_result",
          "data": {
            "text/plain": [
              "0      8469672\n",
              "1      8458519\n",
              "2      8470063\n",
              "3      8456283\n",
              "4      8467925\n",
              "        ...   \n",
              "526    8465185\n",
              "527    8471234\n",
              "529    8470610\n",
              "530    8469760\n",
              "531    8465009\n",
              "Name: playerId, Length: 504, dtype: int64"
            ]
          },
          "metadata": {},
          "execution_count": 26
        }
      ]
    },
    {
      "cell_type": "markdown",
      "source": [
        "## Create Torch data from df's"
      ],
      "metadata": {
        "id": "D3P0zNgtlW7K"
      }
    },
    {
      "cell_type": "code",
      "source": [
        "# cols we use for dataset\n",
        "data_columns = [\n",
        "    'I_F_primaryAssists', 'I_F_secondaryAssists',\n",
        "    'I_F_shotsOnGoal', 'I_F_shotAttempts',\n",
        "    'I_F_goals', 'I_F_rebounds',\n",
        "    'I_F_freeze', 'I_F_playStopped',\n",
        "    'I_F_playContinuedInZone', 'I_F_playContinuedOutsideZone',\n",
        "    'I_F_hits', 'I_F_takeaways', 'I_F_giveaways',\n",
        "    'I_F_dZoneGiveaways', 'I_F_oZoneShiftStarts',\n",
        "    'I_F_dZoneShiftStarts', 'I_F_neutralZoneShiftStarts',\n",
        "    'I_F_flyShiftStarts', 'I_F_oZoneShiftEnds',\n",
        "    'I_F_dZoneShiftEnds', 'I_F_neutralZoneShiftEnds',\n",
        "    'I_F_flyShiftEnds',\n",
        "    'OnIce_F_shotsOnGoal', 'OnIce_F_shotAttempts',\n",
        "    'OnIce_F_goals', 'OnIce_F_rebounds', 'OnIce_F_reboundGoals',\n",
        "    'OnIce_A_shotsOnGoal', 'OnIce_A_shotAttempts',\n",
        "    'OnIce_A_goals', 'OnIce_A_rebounds', 'OnIce_A_reboundGoals',\n",
        "    'D','C','L','R'\n",
        "]\n",
        "assert len(data_columns) == 36"
      ],
      "metadata": {
        "id": "8XHjBsr7fHtx"
      },
      "execution_count": null,
      "outputs": []
    },
    {
      "cell_type": "code",
      "source": [
        "final_shape = (15, len(data_columns))\n",
        "all_data = torch.empty(0, *final_shape)"
      ],
      "metadata": {
        "id": "biMnp-9YXiqT"
      },
      "execution_count": null,
      "outputs": []
    },
    {
      "cell_type": "code",
      "source": [
        "# for keeping track of who is who\n",
        "player_id_rows = {\n",
        "    # id: {\n",
        "    #     rookie_year: 2008,\n",
        "    #     name: \"john\",\n",
        "    #     row: 0\n",
        "    # }\n",
        "}"
      ],
      "metadata": {
        "id": "smkNAeV8ZHjv"
      },
      "execution_count": null,
      "outputs": []
    },
    {
      "cell_type": "code",
      "source": [
        "current_row = 0"
      ],
      "metadata": {
        "id": "HwA6qtH0aGRp"
      },
      "execution_count": null,
      "outputs": []
    },
    {
      "cell_type": "code",
      "source": [
        "#2008, 2009\n",
        "for i in range(2008, 2023):\n",
        "    curr_df = input_dfs['year' + str(i)]\n",
        "    for index, row in curr_df.iterrows():\n",
        "        curr_player_id_str = 'id' + str(int(row['playerId']))\n",
        "        #print(curr_player_id)\n",
        "        if curr_player_id_str in player_id_rows:\n",
        "            year_diff = i - player_id_rows[curr_player_id_str][\"rookie\"]\n",
        "            player_row = int(player_id_rows[curr_player_id_str][\"row\"])\n",
        "            # update the player's row based on what year \n",
        "            # they are in for their career\n",
        "            all_data[player_row, year_diff, :] = torch.tensor(row[data_columns].values)\n",
        "        # check if id not in vet ids, if not then add it\n",
        "        elif row['playerId'] not in list(vet_ids):\n",
        "            # set our dict\n",
        "            player_id_rows[curr_player_id_str] = {\n",
        "                \"name\": str(df_player_birthday[df_player_birthday['playerId'] == row['playerId']]['name'].item()),\n",
        "                \"row\": current_row,\n",
        "                \"rookie\": i\n",
        "            }\n",
        "            zeros_data = torch.zeros(*final_shape)\n",
        "            # Replace zeros with epsilon\n",
        "            #zeros_data = torch.where(zeros_data == 0, log_epsilon, zeros_data)\n",
        "\n",
        "            # Apply logarithmic transformation\n",
        "            #zeros_data = torch.log(zeros_data)\n",
        "            # Extract the values from the specified columns and convert them to a numpy array\n",
        "            values = row[data_columns].values\n",
        "            zeros_data[0,:] = torch.tensor(values)\n",
        "            all_data = torch.cat((all_data, zeros_data.unsqueeze(0)), dim=0)  # Append the tensor to the empty tensor\n",
        "            #increment our counter\n",
        "            current_row += 1\n",
        "            \n"
      ],
      "metadata": {
        "id": "ClJaBM8KC2Fu"
      },
      "execution_count": null,
      "outputs": []
    },
    {
      "cell_type": "code",
      "source": [
        "all_data.shape"
      ],
      "metadata": {
        "colab": {
          "base_uri": "https://localhost:8080/"
        },
        "id": "l3tNE1aDgCdH",
        "outputId": "dba368be-1eee-477f-88f1-fd84a31d662c"
      },
      "execution_count": null,
      "outputs": [
        {
          "output_type": "execute_result",
          "data": {
            "text/plain": [
              "torch.Size([1058, 15, 36])"
            ]
          },
          "metadata": {},
          "execution_count": 32
        }
      ]
    },
    {
      "cell_type": "code",
      "source": [
        "player_id_rows['id8471817']"
      ],
      "metadata": {
        "colab": {
          "base_uri": "https://localhost:8080/"
        },
        "id": "4UUrvff7gfaQ",
        "outputId": "872fb94c-e92b-4859-9b56-15176b27e549"
      },
      "execution_count": null,
      "outputs": [
        {
          "output_type": "execute_result",
          "data": {
            "text/plain": [
              "{'name': 'Ryan Reaves', 'row': 439, 'rookie': 2014}"
            ]
          },
          "metadata": {},
          "execution_count": 33
        }
      ]
    },
    {
      "cell_type": "code",
      "source": [
        "# known value for Ryan Reaves rookie season, shots on goal/icehour\n",
        "assert all_data[439, 0, 2].item() == 4.782146453857422"
      ],
      "metadata": {
        "id": "y7Gyia_RlhNg"
      },
      "execution_count": null,
      "outputs": []
    },
    {
      "cell_type": "markdown",
      "source": [
        "## Split into Train, Val, Test"
      ],
      "metadata": {
        "id": "Y2RObwFDNgT4"
      }
    },
    {
      "cell_type": "code",
      "source": [
        "# Define the sizes for train, validation, and test sets\n",
        "train_size = int(0.85 * len(all_data))\n",
        "val_size = int(0.10 * len(all_data))\n",
        "test_size = len(all_data) - train_size - val_size\n",
        "\n",
        "# Use random_split to split the data\n",
        "torch.manual_seed(522)\n",
        "train_set, val_set, test_set = random_split(all_data, [train_size, val_size, test_size])"
      ],
      "metadata": {
        "id": "MXquGV3omCKw"
      },
      "execution_count": null,
      "outputs": []
    },
    {
      "cell_type": "code",
      "source": [
        "all_data[train_set.indices].shape"
      ],
      "metadata": {
        "colab": {
          "base_uri": "https://localhost:8080/"
        },
        "id": "n55qhdFLmdkY",
        "outputId": "24d6f78c-11d4-4619-83da-33c1dfe9caff"
      },
      "execution_count": null,
      "outputs": [
        {
          "output_type": "execute_result",
          "data": {
            "text/plain": [
              "torch.Size([899, 15, 36])"
            ]
          },
          "metadata": {},
          "execution_count": 36
        }
      ]
    },
    {
      "cell_type": "code",
      "source": [
        "train_data = all_data[train_set.indices].clone()\n",
        "val_data = all_data[val_set.indices].clone()\n",
        "test_data = all_data[test_set.indices].clone()"
      ],
      "metadata": {
        "id": "-SlOjTIgmepy"
      },
      "execution_count": null,
      "outputs": []
    },
    {
      "cell_type": "code",
      "source": [
        "print(train_data.shape)\n",
        "print(val_data.shape)\n",
        "print(test_data.shape)"
      ],
      "metadata": {
        "colab": {
          "base_uri": "https://localhost:8080/"
        },
        "id": "UAFBRl9KnQh3",
        "outputId": "7c9a504f-4281-46fe-f9d6-a32a6425e37d"
      },
      "execution_count": null,
      "outputs": [
        {
          "output_type": "stream",
          "name": "stdout",
          "text": [
            "torch.Size([899, 15, 36])\n",
            "torch.Size([105, 15, 36])\n",
            "torch.Size([54, 15, 36])\n"
          ]
        }
      ]
    },
    {
      "cell_type": "code",
      "source": [
        "# also keep track of a \"train and val\" dataset, since we are only allowed\n",
        "# to use that for scaling our data as well (as we cannot let information\n",
        "# from unseen data leak into the model)\n",
        "train_and_val_data = all_data[train_set.indices + val_set.indices].clone()"
      ],
      "metadata": {
        "id": "UVwHldhyVpgt"
      },
      "execution_count": null,
      "outputs": []
    },
    {
      "cell_type": "code",
      "source": [
        "train_and_val_data.shape"
      ],
      "metadata": {
        "colab": {
          "base_uri": "https://localhost:8080/"
        },
        "id": "pNWGOgOtVvUr",
        "outputId": "7988272a-5ad7-4855-9e50-6aa5e72c709a"
      },
      "execution_count": null,
      "outputs": [
        {
          "output_type": "execute_result",
          "data": {
            "text/plain": [
              "torch.Size([1004, 15, 36])"
            ]
          },
          "metadata": {},
          "execution_count": 40
        }
      ]
    },
    {
      "cell_type": "markdown",
      "source": [
        "## Feature Scaling\n",
        "\n",
        "note: technically just removing all 0 rows isnt correct because if a player was injured, that should count towards the mean/std, unlike padding which shouldnt. However, considering the relative rarity of full season injury and the fact it is just for normalization, it is okay. but should go back and include rows of 0s if they are between seasons"
      ],
      "metadata": {
        "id": "NP7AvzEqWfbS"
      }
    },
    {
      "cell_type": "code",
      "source": [
        "train_and_val_data_flat = train_and_val_data.view(-1, train_data.size(2))"
      ],
      "metadata": {
        "id": "Io5_OJOTWelC"
      },
      "execution_count": null,
      "outputs": []
    },
    {
      "cell_type": "code",
      "source": [
        "train_and_val_data_flat.shape"
      ],
      "metadata": {
        "colab": {
          "base_uri": "https://localhost:8080/"
        },
        "id": "05Ib4suEWeic",
        "outputId": "28a117bf-d22a-4b98-ce5e-908b9dfd35de"
      },
      "execution_count": null,
      "outputs": [
        {
          "output_type": "execute_result",
          "data": {
            "text/plain": [
              "torch.Size([15060, 36])"
            ]
          },
          "metadata": {},
          "execution_count": 42
        }
      ]
    },
    {
      "cell_type": "code",
      "source": [
        "train_and_val_data_flat_no_pos = train_and_val_data_flat[:,:-4]"
      ],
      "metadata": {
        "id": "Qw6g6pmFWefe"
      },
      "execution_count": null,
      "outputs": []
    },
    {
      "cell_type": "code",
      "source": [
        "# Find rows where not all values are zero, because we\n",
        "# are getting rid of them and don't want to use padding\n",
        "# to scale the features\n",
        "rows_to_keep = (train_and_val_data_flat_no_pos != 0).any(dim=1)"
      ],
      "metadata": {
        "id": "VVZT4ST4foTE"
      },
      "execution_count": null,
      "outputs": []
    },
    {
      "cell_type": "code",
      "source": [
        "# Filter the dataset\n",
        "non_padding_rows = train_and_val_data_flat_no_pos[rows_to_keep]"
      ],
      "metadata": {
        "id": "ZhYD5vnTfvVY"
      },
      "execution_count": null,
      "outputs": []
    },
    {
      "cell_type": "code",
      "source": [
        "non_padding_rows[0]"
      ],
      "metadata": {
        "colab": {
          "base_uri": "https://localhost:8080/"
        },
        "id": "XPHDTMp3laYO",
        "outputId": "09b9ec08-a129-4981-c436-d59752b1d0de"
      },
      "execution_count": null,
      "outputs": [
        {
          "output_type": "execute_result",
          "data": {
            "text/plain": [
              "tensor([ 1.1805,  1.1018,  9.5226, 16.2907,  1.4166,  1.0231,  1.8888,  0.4722,\n",
              "         3.8562,  4.2497,  8.9717,  1.9675,  1.3379,  0.2361,  8.1060,  8.3421,\n",
              "        13.2214, 47.2193, 14.1658,  8.9717, 12.9066, 40.8447, 38.7985, 67.7597,\n",
              "         4.8006,  4.4858,  1.1018, 23.7671, 41.9465,  2.2036,  2.4397,  0.2361])"
            ]
          },
          "metadata": {},
          "execution_count": 46
        }
      ]
    },
    {
      "cell_type": "code",
      "source": [
        "non_padding_rows.shape"
      ],
      "metadata": {
        "colab": {
          "base_uri": "https://localhost:8080/"
        },
        "id": "o6SsQ_E2qNZ9",
        "outputId": "35244696-91e2-4ef5-a57c-3376b9ad1b60"
      },
      "execution_count": null,
      "outputs": [
        {
          "output_type": "execute_result",
          "data": {
            "text/plain": [
              "torch.Size([4786, 32])"
            ]
          },
          "metadata": {},
          "execution_count": 47
        }
      ]
    },
    {
      "cell_type": "markdown",
      "source": [
        "### Get mean and std for each col and add to dict"
      ],
      "metadata": {
        "id": "X337ykSCXyT_"
      }
    },
    {
      "cell_type": "code",
      "source": [
        "# Calculate the mean along the first dimension (rows)\n",
        "mean_values = torch.mean(non_padding_rows, dim=0)\n",
        "\n",
        "# Calculate the standard deviation along the first dimension (rows)\n",
        "std_values = torch.std(non_padding_rows, dim=0)"
      ],
      "metadata": {
        "id": "0ZmlvTxJX4mG"
      },
      "execution_count": null,
      "outputs": []
    },
    {
      "cell_type": "code",
      "source": [
        "#primary assists, secondary assists, shots on goal, shot attempts, goals,\n",
        "# look good\n",
        "mean_values"
      ],
      "metadata": {
        "colab": {
          "base_uri": "https://localhost:8080/"
        },
        "id": "4MG3xxc_Yiej",
        "outputId": "b1df5d7f-eca9-4a84-b09c-e8dba3a31851"
      },
      "execution_count": null,
      "outputs": [
        {
          "output_type": "execute_result",
          "data": {
            "text/plain": [
              "tensor([ 0.5446,  0.4291,  6.3399, 11.5472,  0.6080,  0.4731,  1.4200,  0.2219,\n",
              "         2.7496,  3.2605,  4.7449,  1.4610,  1.6655,  0.8987, 10.7080,  9.9340,\n",
              "        12.6549, 44.7459, 11.0345, 10.7427, 11.6444, 44.6212, 30.7196, 56.6331,\n",
              "         2.8512,  2.2957,  0.4597, 29.7701, 54.8979,  2.7469,  2.1882,  0.4322])"
            ]
          },
          "metadata": {},
          "execution_count": 49
        }
      ]
    },
    {
      "cell_type": "code",
      "source": [
        "# Apply z-score normalization\n",
        "normalized_data = (non_padding_rows - mean_values) / std_values\n",
        "\n",
        "# Record the min and max values for each column\n",
        "min_values, _ = torch.min(normalized_data, dim=0)\n",
        "max_values, _ = torch.max(normalized_data, dim=0)"
      ],
      "metadata": {
        "id": "AlFN2n4gZ59U"
      },
      "execution_count": null,
      "outputs": []
    },
    {
      "cell_type": "code",
      "source": [
        "# show min values for z score transform. This makes a bit of sense, \n",
        "# some stats will have zeros (goals, -1.4650) that you just can't be worse\n",
        "# than the worst person in\n",
        "min_values"
      ],
      "metadata": {
        "colab": {
          "base_uri": "https://localhost:8080/"
        },
        "id": "Z2YfsPfgaFl0",
        "outputId": "50cdddd4-4703-43b2-cc2c-df50d2575884"
      },
      "execution_count": null,
      "outputs": [
        {
          "output_type": "execute_result",
          "data": {
            "text/plain": [
              "tensor([-1.7166, -1.9476, -2.3953, -2.3422, -1.4650, -1.7620, -2.6026, -1.5297,\n",
              "        -2.2322, -2.3511, -1.3978, -2.1774, -2.2103, -1.5665, -2.5370, -2.4550,\n",
              "        -3.4243, -2.7770, -3.0537, -3.3908, -3.5914, -2.9856, -2.7080, -3.0678,\n",
              "        -2.5884, -2.3703, -2.2527, -3.4540, -3.3165, -3.2356, -2.4826, -2.5002])"
            ]
          },
          "metadata": {},
          "execution_count": 51
        }
      ]
    },
    {
      "cell_type": "code",
      "source": [
        "# Conversely, there are probably a few outliers, and a few really good\n",
        "# players, and a few really lucky players, and that is why some of these\n",
        "# are high (they are max's after all), but looks ok to see many within 3-4\n",
        "# std\n",
        "max_values"
      ],
      "metadata": {
        "colab": {
          "base_uri": "https://localhost:8080/"
        },
        "id": "2LsYa-6YaHYd",
        "outputId": "f5569e62-d1d4-4308-ad33-7cf9f492244a"
      },
      "execution_count": null,
      "outputs": [
        {
          "output_type": "execute_result",
          "data": {
            "text/plain": [
              "tensor([5.9076, 4.6098, 4.0009, 4.5293, 4.3007, 5.6718, 4.1234, 5.3722, 4.6742,\n",
              "        3.9383, 6.4390, 5.4101, 4.7730, 5.4175, 3.3537, 6.5133, 6.0336, 4.2111,\n",
              "        3.9817, 4.2269, 3.4735, 4.2405, 4.1417, 3.8802, 3.8800, 5.9468, 5.4597,\n",
              "        4.0920, 3.8892, 4.8691, 4.8284, 5.3780])"
            ]
          },
          "metadata": {},
          "execution_count": 52
        }
      ]
    },
    {
      "cell_type": "code",
      "source": [
        "# no need to go beyond 3 std deviations (99.7%), data is probably outlier\n",
        "# due to not wanting to take log of icetime because it (seemingly)\n",
        "# didn't fit data because didnt seem extremely positively skewed\n",
        "# yet we get some outliers\n",
        "# however, for max 4 might be more appropriate, just for this data\n",
        "# the fact that we only have 2 hours isnt that much so we get some weirdness\n",
        "# but we dont want to throw away too much data, and we want to represent players\n",
        "# who get a 4 more than those who got a 3, which is a few, but we also\n",
        "# then want to transform linearly to the scale so its a bit weird\n",
        "# but can try different values\n",
        "min_values = torch.clamp(min_values, min=-3)\n",
        "max_values = torch.clamp(max_values, max=4)"
      ],
      "metadata": {
        "id": "9bWx56Cpyuoy"
      },
      "execution_count": null,
      "outputs": []
    },
    {
      "cell_type": "code",
      "source": [
        "min_values"
      ],
      "metadata": {
        "colab": {
          "base_uri": "https://localhost:8080/"
        },
        "id": "tEO6HfIxyyao",
        "outputId": "88e61328-1876-4436-f1f3-6c31fc227323"
      },
      "execution_count": null,
      "outputs": [
        {
          "output_type": "execute_result",
          "data": {
            "text/plain": [
              "tensor([-1.7166, -1.9476, -2.3953, -2.3422, -1.4650, -1.7620, -2.6026, -1.5297,\n",
              "        -2.2322, -2.3511, -1.3978, -2.1774, -2.2103, -1.5665, -2.5370, -2.4550,\n",
              "        -3.0000, -2.7770, -3.0000, -3.0000, -3.0000, -2.9856, -2.7080, -3.0000,\n",
              "        -2.5884, -2.3703, -2.2527, -3.0000, -3.0000, -3.0000, -2.4826, -2.5002])"
            ]
          },
          "metadata": {},
          "execution_count": 54
        }
      ]
    },
    {
      "cell_type": "code",
      "source": [
        "max_values"
      ],
      "metadata": {
        "colab": {
          "base_uri": "https://localhost:8080/"
        },
        "id": "nVSDpF6xzupy",
        "outputId": "0fd48311-25a8-4194-99c5-7208686181ba"
      },
      "execution_count": null,
      "outputs": [
        {
          "output_type": "execute_result",
          "data": {
            "text/plain": [
              "tensor([4.0000, 4.0000, 4.0000, 4.0000, 4.0000, 4.0000, 4.0000, 4.0000, 4.0000,\n",
              "        3.9383, 4.0000, 4.0000, 4.0000, 4.0000, 3.3537, 4.0000, 4.0000, 4.0000,\n",
              "        3.9817, 4.0000, 3.4735, 4.0000, 4.0000, 3.8802, 3.8800, 4.0000, 4.0000,\n",
              "        4.0000, 3.8892, 4.0000, 4.0000, 4.0000])"
            ]
          },
          "metadata": {},
          "execution_count": 55
        }
      ]
    },
    {
      "cell_type": "code",
      "source": [
        "mean_std_min_max_dict = {\n",
        "    \"means\": mean_values,\n",
        "    \"stds\": std_values,\n",
        "    \"mins\": min_values,\n",
        "    \"maxs\": max_values\n",
        "}"
      ],
      "metadata": {
        "id": "Cqr6nIQvcZ_3"
      },
      "execution_count": null,
      "outputs": []
    },
    {
      "cell_type": "code",
      "source": [
        "mean_std_min_max_dict[\"means\"][0].item()"
      ],
      "metadata": {
        "colab": {
          "base_uri": "https://localhost:8080/"
        },
        "id": "TDPoT3BJcnIl",
        "outputId": "9f9d98b9-735b-4bdc-9d01-ed5c55e0b1f3"
      },
      "execution_count": null,
      "outputs": [
        {
          "output_type": "execute_result",
          "data": {
            "text/plain": [
              "0.5445865988731384"
            ]
          },
          "metadata": {},
          "execution_count": 57
        }
      ]
    },
    {
      "cell_type": "markdown",
      "source": [
        "## Remove 0 rows and split data by respective lengths\n",
        "\n",
        "aka career length, but also gets rid of players with only 1 year (rookies in 2022), because we wouldn't even have a single target for them"
      ],
      "metadata": {
        "id": "k0g1aJZzcdzQ"
      }
    },
    {
      "cell_type": "code",
      "source": [
        "def get_data_by_seq_len(range_start, range_end, col_shape, data_split):\n",
        "    # create dict that keeps track of data by seq length\n",
        "    data_by_seq_length = {}\n",
        "    for i in range(range_start, range_end):\n",
        "        seq_shape = (i, col_shape)\n",
        "        cur_seq_data = torch.empty(0, *seq_shape)\n",
        "        data_by_seq_length['length' + str(i)] = cur_seq_data\n",
        "\n",
        "    # iterate over data\n",
        "    for i in range(data_split.size(0)):\n",
        "        current_data_item = data_split[i]\n",
        "\n",
        "        num_nonzero = 0\n",
        "        # count nonzero rows\n",
        "        for j in range(current_data_item.size(0)):\n",
        "            if torch.all(current_data_item[j] == 0):\n",
        "                num_nonzero += 1\n",
        "        #print(num_nonzero)\n",
        "        num_years = data_split.size(1) - num_nonzero\n",
        "        # if you only have one year, you we dont have even a single timestep target\n",
        "        if num_years > 1:\n",
        "            # create empty/zero tensor based on number of nonzero rows\n",
        "            player_career_data = torch.zeros(num_years, data_split.size(2))\n",
        "\n",
        "            # add data for each row (timestep btw) to empty tensor\n",
        "            row_index = 0\n",
        "            for j in range(current_data_item.size(0)):\n",
        "                if not torch.all(current_data_item[j] == 0):\n",
        "                    #print(current_data_item[j])\n",
        "                    player_career_data[row_index,:] = current_data_item[j]\n",
        "                    row_index += 1\n",
        "\n",
        "            # Append the tensor to the specified length tensor\n",
        "            data_by_seq_length['length' + str(num_years)] = torch.cat((data_by_seq_length['length' + str(num_years)], \n",
        "                                                                    player_career_data.unsqueeze(0)), dim=0)\n",
        "    return data_by_seq_length"
      ],
      "metadata": {
        "id": "U2xEe86rD00Q"
      },
      "execution_count": null,
      "outputs": []
    },
    {
      "cell_type": "code",
      "source": [
        "data_by_seq_len = get_data_by_seq_len(2, 16, len(data_columns), train_data)\n",
        "val_by_seq_len = get_data_by_seq_len(2, 16, len(data_columns), val_data)\n",
        "test_by_seq_len = get_data_by_seq_len(2, 16, len(data_columns), test_data)"
      ],
      "metadata": {
        "id": "arR02aSkES1F"
      },
      "execution_count": null,
      "outputs": []
    },
    {
      "cell_type": "code",
      "source": [
        "total_data_size = 0\n",
        "for i in range(2, 16):\n",
        "    print(data_by_seq_len['length' + str(i)].shape)\n",
        "    total_data_size += data_by_seq_len['length' + str(i)].size(0)\n",
        "print(\"total data size: \", total_data_size)"
      ],
      "metadata": {
        "colab": {
          "base_uri": "https://localhost:8080/"
        },
        "id": "yUKuLG3yhUtL",
        "outputId": "3f0bb751-9023-43a2-fd18-80afae9bfb74"
      },
      "execution_count": null,
      "outputs": [
        {
          "output_type": "stream",
          "name": "stdout",
          "text": [
            "torch.Size([137, 2, 36])\n",
            "torch.Size([90, 3, 36])\n",
            "torch.Size([73, 4, 36])\n",
            "torch.Size([55, 5, 36])\n",
            "torch.Size([72, 6, 36])\n",
            "torch.Size([68, 7, 36])\n",
            "torch.Size([38, 8, 36])\n",
            "torch.Size([52, 9, 36])\n",
            "torch.Size([33, 10, 36])\n",
            "torch.Size([16, 11, 36])\n",
            "torch.Size([19, 12, 36])\n",
            "torch.Size([21, 13, 36])\n",
            "torch.Size([11, 14, 36])\n",
            "torch.Size([7, 15, 36])\n",
            "total data size:  692\n"
          ]
        }
      ]
    },
    {
      "cell_type": "code",
      "source": [
        "assert data_by_seq_len['length10'][2,0,0].item() == 0.41482165455818176"
      ],
      "metadata": {
        "id": "Yi6Pb9VQp65m"
      },
      "execution_count": null,
      "outputs": []
    },
    {
      "cell_type": "markdown",
      "source": [
        "### Batch the data and split into x, y"
      ],
      "metadata": {
        "id": "WvUpGOhMWqsn"
      }
    },
    {
      "cell_type": "code",
      "source": [
        "def get_data_xy_batched(data_by_seq_length):\n",
        "    data_x_by_seq_len = {}\n",
        "    data_y_by_seq_len = {}\n",
        "    # reshape all seq dicts\n",
        "    for seq_len_string in data_by_seq_length:\n",
        "        data_x_by_seq_len[seq_len_string] = data_by_seq_length[seq_len_string].view(\n",
        "            data_by_seq_length[seq_len_string].size(0),\n",
        "            data_by_seq_length[seq_len_string].size(1),\n",
        "            1,\n",
        "            data_by_seq_length[seq_len_string].size(2)\n",
        "        )\n",
        "        data_y_by_seq_len[seq_len_string] = data_by_seq_length[seq_len_string].view(\n",
        "            data_by_seq_length[seq_len_string].size(0),\n",
        "            data_by_seq_length[seq_len_string].size(1),\n",
        "            1,\n",
        "            data_by_seq_length[seq_len_string].size(2)\n",
        "        )\n",
        "        data_x_by_seq_len[seq_len_string] = data_x_by_seq_len[seq_len_string][:, :-1, :, :].clone()\n",
        "        data_y_by_seq_len[seq_len_string] = data_y_by_seq_len[seq_len_string][:, 1:, :, :].clone()\n",
        "\n",
        "    return data_x_by_seq_len, data_y_by_seq_len"
      ],
      "metadata": {
        "id": "KqspzlyUF0Oe"
      },
      "execution_count": null,
      "outputs": []
    },
    {
      "cell_type": "code",
      "source": [
        "train_x_by_seq_len, train_y_by_seq_len = get_data_xy_batched(data_by_seq_len)\n",
        "val_x_by_seq_len, val_y_by_seq_len = get_data_xy_batched(val_by_seq_len)\n",
        "test_x_by_seq_len, test_y_by_seq_len = get_data_xy_batched(test_by_seq_len)"
      ],
      "metadata": {
        "id": "0lyxJZRakAH9"
      },
      "execution_count": null,
      "outputs": []
    },
    {
      "cell_type": "code",
      "source": [
        "print(train_x_by_seq_len['length3'][3])"
      ],
      "metadata": {
        "colab": {
          "base_uri": "https://localhost:8080/"
        },
        "id": "WaGeQ5hDi_vh",
        "outputId": "fb7b04d2-3e66-4ca0-f800-ce164984f346"
      },
      "execution_count": null,
      "outputs": [
        {
          "output_type": "stream",
          "name": "stdout",
          "text": [
            "tensor([[[ 0.2733,  0.4920,  3.8815,  9.2392,  0.3280,  0.1093,  0.8747,\n",
            "           0.2733,  1.4214,  2.4601,  1.3121,  0.6560,  2.0228,  1.8588,\n",
            "           9.0752, 12.7380, 12.3007, 51.0615, 13.6674, 11.9180, 11.5353,\n",
            "          48.0547, 30.5057, 56.3098,  2.7335,  1.6948,  0.3827, 38.3235,\n",
            "          66.8610,  3.2255,  2.8975,  0.4920,  1.0000,  0.0000,  0.0000,\n",
            "           0.0000]],\n",
            "\n",
            "        [[ 0.2409,  0.4818,  4.1431,  9.5388,  0.1445,  0.3372,  1.1080,\n",
            "           0.2891,  2.0716,  2.3124,  4.4804,  0.2891,  0.8672,  0.6263,\n",
            "           7.0337,  9.5388, 10.9360, 47.6461,  9.0089, 11.1287,  9.1053,\n",
            "          45.9117, 29.2910, 53.0418,  3.3241,  1.8789,  0.1927, 30.6399,\n",
            "          54.1017,  2.5052,  2.2161,  0.6745,  1.0000,  0.0000,  0.0000,\n",
            "           0.0000]]])\n"
          ]
        }
      ]
    },
    {
      "cell_type": "code",
      "source": [
        "print(train_y_by_seq_len['length3'][3])"
      ],
      "metadata": {
        "id": "RYgx7PL7jQAi",
        "colab": {
          "base_uri": "https://localhost:8080/"
        },
        "outputId": "c0850f3c-3d43-4ef0-e911-939a77ed13c8"
      },
      "execution_count": null,
      "outputs": [
        {
          "output_type": "stream",
          "name": "stdout",
          "text": [
            "tensor([[[ 0.2409,  0.4818,  4.1431,  9.5388,  0.1445,  0.3372,  1.1080,\n",
            "           0.2891,  2.0716,  2.3124,  4.4804,  0.2891,  0.8672,  0.6263,\n",
            "           7.0337,  9.5388, 10.9360, 47.6461,  9.0089, 11.1287,  9.1053,\n",
            "          45.9117, 29.2910, 53.0418,  3.3241,  1.8789,  0.1927, 30.6399,\n",
            "          54.1017,  2.5052,  2.2161,  0.6745,  1.0000,  0.0000,  0.0000,\n",
            "           0.0000]],\n",
            "\n",
            "        [[ 0.0000,  0.3755,  4.0053,  8.7616,  0.1877,  0.1877,  0.6258,\n",
            "           0.1252,  1.6897,  2.8162,  4.4434,  0.8136,  1.3142,  1.1891,\n",
            "           5.5698, 14.8947, 10.6390, 49.8157, 11.0771,  9.1371,  9.3248,\n",
            "          51.3803, 26.6602, 48.7518,  2.1904,  2.5659,  0.5632, 35.7346,\n",
            "          65.1485,  3.1291,  3.1291,  0.5632,  1.0000,  0.0000,  0.0000,\n",
            "           0.0000]]])\n"
          ]
        }
      ]
    },
    {
      "cell_type": "markdown",
      "source": [
        "### Apply transform"
      ],
      "metadata": {
        "id": "byhiD-uOnO46"
      }
    },
    {
      "cell_type": "code",
      "source": [
        "# remind ourselves, mins after z transform\n",
        "mean_std_min_max_dict[\"mins\"]"
      ],
      "metadata": {
        "colab": {
          "base_uri": "https://localhost:8080/"
        },
        "id": "6iDNV0D31xBR",
        "outputId": "9082440c-6bf9-44e1-e603-c7c82eb105e4"
      },
      "execution_count": null,
      "outputs": [
        {
          "output_type": "execute_result",
          "data": {
            "text/plain": [
              "tensor([-1.7166, -1.9476, -2.3953, -2.3422, -1.4650, -1.7620, -2.6026, -1.5297,\n",
              "        -2.2322, -2.3511, -1.3978, -2.1774, -2.2103, -1.5665, -2.5370, -2.4550,\n",
              "        -3.0000, -2.7770, -3.0000, -3.0000, -3.0000, -2.9856, -2.7080, -3.0000,\n",
              "        -2.5884, -2.3703, -2.2527, -3.0000, -3.0000, -3.0000, -2.4826, -2.5002])"
            ]
          },
          "metadata": {},
          "execution_count": 66
        }
      ]
    },
    {
      "cell_type": "code",
      "source": [
        "def apply_transform(column, col_num):\n",
        "    col_mean = mean_std_min_max_dict[\"means\"][col_num]\n",
        "    col_std = mean_std_min_max_dict[\"stds\"][col_num]\n",
        "    col_min = mean_std_min_max_dict[\"mins\"][col_num]\n",
        "    col_max = mean_std_min_max_dict[\"maxs\"][col_num]\n",
        "    # z score\n",
        "    modified_column = (column - col_mean) / col_std\n",
        "    # Apply min-max scaling formula (and implicit * (1 - 0) + 0)\n",
        "    # any apply clamp, because we also clipped some values, so we need to make\n",
        "    # sure those don't go over or under 0-1 (again if you were beyond 3 std, \n",
        "    # probably outlier and you still get max/min value anyways)\n",
        "    modified_column = torch.clamp((modified_column - col_min) / (col_max - col_min), min=0, max=1)\n",
        "    return modified_column"
      ],
      "metadata": {
        "id": "_-3epUK300Hv"
      },
      "execution_count": null,
      "outputs": []
    },
    {
      "cell_type": "code",
      "source": [
        "def apply_transform_to_data(data):\n",
        "    for seq_len_string in data:\n",
        "        # Loop over each element along the last dimension (40 variables)\n",
        "        for i in range(len(mean_std_min_max_dict[\"means\"])):\n",
        "            column = data[seq_len_string][:, :, :, i]  # Extract the column\n",
        "            modified_column = apply_transform(column, i)  # Apply your function to the column\n",
        "            data[seq_len_string][:, :, :, i] = modified_column  # Replace the original column with the modified column"
      ],
      "metadata": {
        "id": "bggJIan3wTX0"
      },
      "execution_count": null,
      "outputs": []
    },
    {
      "cell_type": "code",
      "source": [
        "apply_transform_to_data(train_x_by_seq_len)\n",
        "apply_transform_to_data(train_y_by_seq_len)\n",
        "apply_transform_to_data(val_x_by_seq_len)\n",
        "apply_transform_to_data(val_y_by_seq_len)\n",
        "# for test, could use statistics from all data..\n",
        "apply_transform_to_data(test_x_by_seq_len)\n",
        "apply_transform_to_data(test_y_by_seq_len)"
      ],
      "metadata": {
        "id": "bNUwt178wqaZ"
      },
      "execution_count": null,
      "outputs": []
    },
    {
      "cell_type": "code",
      "source": [
        "train_x_by_seq_len['length3'][0]"
      ],
      "metadata": {
        "colab": {
          "base_uri": "https://localhost:8080/"
        },
        "id": "1Vm0DT4PxGJf",
        "outputId": "42116359-f37c-47c7-b735-c0fd244a3dda"
      },
      "execution_count": null,
      "outputs": [
        {
          "output_type": "execute_result",
          "data": {
            "text/plain": [
              "tensor([[[0.2632, 0.3036, 0.3203, 0.3616, 0.1052, 0.3086, 0.3510, 0.0992,\n",
              "          0.2616, 0.3859, 0.1729, 0.2496, 0.3957, 0.5482, 0.4729, 0.1445,\n",
              "          0.2079, 0.5424, 0.1724, 0.4866, 0.1435, 0.5425, 0.3533, 0.4019,\n",
              "          0.3463, 0.3402, 0.4989, 0.3362, 0.3153, 0.2193, 0.1696, 0.1416,\n",
              "          1.0000, 0.0000, 0.0000, 0.0000]],\n",
              "\n",
              "        [[0.4047, 0.4534, 0.3957, 0.4817, 0.2003, 0.3162, 0.4596, 0.3050,\n",
              "          0.4105, 0.4084, 0.1477, 0.2276, 0.6462, 0.6457, 0.3730, 0.2315,\n",
              "          0.2556, 0.3680, 0.1732, 0.4019, 0.2708, 0.3486, 0.4555, 0.4509,\n",
              "          0.4768, 0.4349, 0.4108, 0.4965, 0.4677, 0.3971, 0.3418, 0.2799,\n",
              "          1.0000, 0.0000, 0.0000, 0.0000]]])"
            ]
          },
          "metadata": {},
          "execution_count": 70
        }
      ]
    },
    {
      "cell_type": "markdown",
      "source": [
        "## Begin Transformer Create"
      ],
      "metadata": {
        "id": "gKLJNT30pU9g"
      }
    },
    {
      "cell_type": "code",
      "source": [
        "device = torch.device('cuda' if torch.cuda.is_available() else 'cpu')"
      ],
      "metadata": {
        "id": "3QU7nvE8pZIf"
      },
      "execution_count": null,
      "outputs": []
    },
    {
      "cell_type": "code",
      "source": [
        "class TransformerModel(nn.Module):\n",
        "\n",
        "    def __init__(self, in_dim: int, out_dim: int, d_model: int, nhead: int, d_hid: int,\n",
        "                 nlayers: int, dropout: float = 0.5):\n",
        "        super().__init__()\n",
        "        self.model_type = 'Transformer'\n",
        "        self.pos_encoder = PositionalEncoding(d_model, dropout)\n",
        "        encoder_layers = TransformerEncoderLayer(d_model, nhead, d_hid, dropout)\n",
        "        self.transformer_encoder = TransformerEncoder(encoder_layers, nlayers)\n",
        "        #self.encoder = nn.Embedding(ntoken, d_model)\n",
        "        # we replace embedding with linear projection up to an embedded space\n",
        "        self.encoder = nn.Linear(in_dim, d_model)\n",
        "        self.d_model = d_model\n",
        "        self.decoder = nn.Linear(d_model, out_dim)\n",
        "\n",
        "        self.init_weights()\n",
        "\n",
        "    def init_weights(self) -> None:\n",
        "        initrange = 0.1\n",
        "        self.encoder.weight.data.uniform_(-initrange, initrange)\n",
        "        self.decoder.bias.data.zero_()\n",
        "        self.decoder.weight.data.uniform_(-initrange, initrange)\n",
        "\n",
        "    def forward(self, src: Tensor, src_mask: Tensor) -> Tensor:\n",
        "        \"\"\"\n",
        "        Arguments:\n",
        "            src: Tensor, shape ``[seq_len, batch_size]``\n",
        "            src_mask: Tensor, shape ``[seq_len, seq_len]``\n",
        "\n",
        "        Returns:\n",
        "            output Tensor of shape ``[seq_len, batch_size, out_dim]``\n",
        "        \"\"\"\n",
        "        src = self.encoder(src) * math.sqrt(self.d_model)\n",
        "        src = self.pos_encoder(src)\n",
        "        output = self.transformer_encoder(src, src_mask)\n",
        "        output = self.decoder(output)\n",
        "        return output"
      ],
      "metadata": {
        "id": "S-3Zc5XopZaE"
      },
      "execution_count": null,
      "outputs": []
    },
    {
      "cell_type": "code",
      "source": [
        "def generate_square_subsequent_mask(sz: int) -> Tensor:\n",
        "    \"\"\"Generates an upper-triangular matrix of ``-inf``, with zeros on ``diag``.\"\"\"\n",
        "    return torch.triu(torch.ones(sz, sz) * float('-inf'), diagonal=1)"
      ],
      "metadata": {
        "id": "6sq3zN0Ipazp"
      },
      "execution_count": null,
      "outputs": []
    },
    {
      "cell_type": "code",
      "source": [
        "class PositionalEncoding(nn.Module):\n",
        "\n",
        "    def __init__(self, d_model: int, dropout: float = 0.1, max_len: int = 5000):\n",
        "        super().__init__()\n",
        "        self.dropout = nn.Dropout(p=dropout)\n",
        "\n",
        "        position = torch.arange(max_len).unsqueeze(1)\n",
        "        div_term = torch.exp(torch.arange(0, d_model, 2) * (-math.log(10000.0) / d_model))\n",
        "        pe = torch.zeros(max_len, 1, d_model)\n",
        "        pe[:, 0, 0::2] = torch.sin(position * div_term)\n",
        "        pe[:, 0, 1::2] = torch.cos(position * div_term)\n",
        "        self.register_buffer('pe', pe)\n",
        "\n",
        "    def forward(self, x: Tensor) -> Tensor:\n",
        "        \"\"\"\n",
        "        Arguments:\n",
        "            x: Tensor, shape ``[seq_len, batch_size, embedding_dim]``\n",
        "        \"\"\"\n",
        "        x = x + self.pe[:x.size(0)]\n",
        "        return self.dropout(x)"
      ],
      "metadata": {
        "id": "Yk0Ab1NSpcUf"
      },
      "execution_count": null,
      "outputs": []
    },
    {
      "cell_type": "code",
      "source": [
        "batch_size = 1\n",
        "eval_batch_size = 1"
      ],
      "metadata": {
        "id": "ujNmKDxfpeHU"
      },
      "execution_count": null,
      "outputs": []
    },
    {
      "cell_type": "code",
      "source": [
        "def get_batch_xy(source_x: Tensor, source_y: Tensor, i: int) -> Tuple[Tensor, Tensor]:\n",
        "    data = source_x[i]\n",
        "    # we dont predict the last 4\n",
        "    target = source_y[i][:,:,:-4].reshape(-1)\n",
        "    return data, target"
      ],
      "metadata": {
        "id": "0ky0Ab7hq4ac"
      },
      "execution_count": null,
      "outputs": []
    },
    {
      "cell_type": "markdown",
      "source": [
        "## Initiate Instance"
      ],
      "metadata": {
        "id": "Vux6vqa3q_lh"
      }
    },
    {
      "cell_type": "code",
      "source": [
        "input_dim = 36\n",
        "output_dim = 32\n",
        "emsize = 512  # embedding dimension\n",
        "d_hid = 512  # dimension of the feedforward network model in ``nn.TransformerEncoder``\n",
        "nlayers = 4  # number of ``nn.TransformerEncoderLayer`` in ``nn.TransformerEncoder``\n",
        "nhead = 4  # number of heads in ``nn.MultiheadAttention``\n",
        "dropout = 0.1  # dropout probability\n",
        "model = TransformerModel(input_dim, output_dim, emsize, nhead, d_hid, nlayers, dropout).to(device)"
      ],
      "metadata": {
        "id": "ZGhxU_NErAbo"
      },
      "execution_count": null,
      "outputs": []
    },
    {
      "cell_type": "code",
      "source": [
        "#criterion = nn.CrossEntropyLoss()\n",
        "criterion = nn.SmoothL1Loss()\n",
        "lr = 0.00001  # learning rate\n",
        "optimizer = torch.optim.Adam(model.parameters(), lr=lr)\n",
        "scheduler = torch.optim.lr_scheduler.StepLR(optimizer, 0.00001, gamma=0.95)"
      ],
      "metadata": {
        "id": "tc_90j0trDZn"
      },
      "execution_count": null,
      "outputs": []
    },
    {
      "cell_type": "markdown",
      "source": [
        "## Define Train and Eval fn"
      ],
      "metadata": {
        "id": "YcAq6LszrIMf"
      }
    },
    {
      "cell_type": "code",
      "source": [
        "# define the various lengthed masks from 1 to 14\n",
        "src_masks_dict = {}\n",
        "for i in range(1, 15):\n",
        "    src_masks_dict[\"mask\" + str(i)] = generate_square_subsequent_mask(i).to(device)"
      ],
      "metadata": {
        "id": "kHbbz7Vd7qks"
      },
      "execution_count": null,
      "outputs": []
    },
    {
      "cell_type": "code",
      "source": [
        "# identify break points in the size of the length's, so we can\n",
        "# just sample random rows and then find the corresponding row\n",
        "break_points = []\n",
        "running_sum = 0\n",
        "for i in range(2, 16):\n",
        "    running_sum += train_x_by_seq_len['length' + str(i)].size(0)\n",
        "    break_points.append(running_sum)"
      ],
      "metadata": {
        "id": "SlzIYK6xAANL"
      },
      "execution_count": null,
      "outputs": []
    },
    {
      "cell_type": "code",
      "source": [
        "break_points"
      ],
      "metadata": {
        "colab": {
          "base_uri": "https://localhost:8080/"
        },
        "id": "Smm0NJ_YBMZB",
        "outputId": "85eb756d-f851-4b92-acab-a809ebc31b85"
      },
      "execution_count": null,
      "outputs": [
        {
          "output_type": "execute_result",
          "data": {
            "text/plain": [
              "[137, 227, 300, 355, 427, 495, 533, 585, 618, 634, 653, 674, 685, 692]"
            ]
          },
          "metadata": {},
          "execution_count": 81
        }
      ]
    },
    {
      "cell_type": "code",
      "source": [
        "val_break_points = []\n",
        "running_sum = 0\n",
        "for i in range(2, 16):\n",
        "    running_sum += val_x_by_seq_len['length' + str(i)].size(0)\n",
        "    val_break_points.append(running_sum)"
      ],
      "metadata": {
        "id": "Wo6OoehdTI3P"
      },
      "execution_count": null,
      "outputs": []
    },
    {
      "cell_type": "code",
      "source": [
        "val_break_points"
      ],
      "metadata": {
        "colab": {
          "base_uri": "https://localhost:8080/"
        },
        "id": "rwBw9BiJTRBc",
        "outputId": "a616e753-d978-4df4-a6b0-f01578aa15f2"
      },
      "execution_count": null,
      "outputs": [
        {
          "output_type": "execute_result",
          "data": {
            "text/plain": [
              "[10, 20, 36, 39, 50, 59, 64, 71, 74, 78, 80, 82, 82, 83]"
            ]
          },
          "metadata": {},
          "execution_count": 83
        }
      ]
    },
    {
      "cell_type": "code",
      "source": [
        "test_break_points = []\n",
        "running_sum = 0\n",
        "for i in range(2, 16):\n",
        "    running_sum += test_x_by_seq_len['length' + str(i)].size(0)\n",
        "    test_break_points.append(running_sum)"
      ],
      "metadata": {
        "id": "W0HHV2_EKg83"
      },
      "execution_count": null,
      "outputs": []
    },
    {
      "cell_type": "code",
      "source": [
        "test_break_points"
      ],
      "metadata": {
        "colab": {
          "base_uri": "https://localhost:8080/"
        },
        "id": "E1Y_C8q4KvTT",
        "outputId": "78e85d4a-c7ad-4936-8b75-94ee1c4869fe"
      },
      "execution_count": null,
      "outputs": [
        {
          "output_type": "execute_result",
          "data": {
            "text/plain": [
              "[7, 14, 22, 24, 29, 32, 34, 35, 39, 41, 42, 44, 44, 44]"
            ]
          },
          "metadata": {},
          "execution_count": 85
        }
      ]
    },
    {
      "cell_type": "code",
      "source": [
        "# variable length\n",
        "def train(model: nn.Module, train_x_param: dict, train_y_param: dict) -> None:\n",
        "    # get a list of shuffled indices from entire size of train dict\n",
        "    shuffled_indices = list(range(break_points[-1]))\n",
        "    random.shuffle(shuffled_indices)\n",
        "\n",
        "    model.train()  # turn on train mode\n",
        "    total_loss = 0.\n",
        "    log_interval = 200\n",
        "    start_time = time.time()\n",
        "\n",
        "    # iterate over the shuffled indices\n",
        "    batch = 0\n",
        "    for i in range(len(shuffled_indices)):\n",
        "        shuffled_idx = shuffled_indices[i]\n",
        "        for j in range(len(break_points)):\n",
        "            if shuffled_idx < break_points[j]:\n",
        "                idx_for_seq = shuffled_idx\n",
        "                if j > 0:\n",
        "                    idx_for_seq = shuffled_idx - break_points[j-1]\n",
        "                data, targets = get_batch_xy(train_x_param['length' + str(j + 2)], \n",
        "                                             train_y_param['length' + str(j + 2)],\n",
        "                                             idx_for_seq)\n",
        "                # convert to float 32 and put on device\n",
        "                data = data.to(torch.float32).to(device)\n",
        "                targets = targets.to(torch.float32).to(device)\n",
        "                seq_len = data.size(0)\n",
        "                # NOTE MASKS ARE DENOTED BY ACTUAL SIZE\n",
        "                src_mask = src_masks_dict['mask' + str(seq_len)]\n",
        "                output = model(data, src_mask)\n",
        "                output = output.view(-1)\n",
        "                loss = criterion(output, targets)\n",
        "                #loss = criterion(output.view(-1, ntokens), targets)\n",
        "\n",
        "                optimizer.zero_grad()\n",
        "                loss.backward()\n",
        "                torch.nn.utils.clip_grad_norm_(model.parameters(), 0.5)\n",
        "                optimizer.step()\n",
        "\n",
        "                total_loss += loss.item()\n",
        "                if batch % log_interval == 0 and batch > 0:\n",
        "                    lr = scheduler.get_last_lr()[0]\n",
        "                    ms_per_batch = (time.time() - start_time) * 1000 / log_interval\n",
        "                    cur_loss = total_loss / log_interval\n",
        "                    ppl = math.exp(cur_loss)\n",
        "                    print(f'| epoch {epoch:3d} | {batch:5d}/{batch:5d} batches | '\n",
        "                          f'lr {lr:02.2f} | ms/batch {ms_per_batch:5.2f} | '\n",
        "                          f'loss {cur_loss:5.5f} | ppl {ppl:8.2f}')\n",
        "                    total_loss = 0\n",
        "                    start_time = time.time()\n",
        "                break\n",
        "        batch += 1"
      ],
      "metadata": {
        "id": "M9s6me4r7fwP"
      },
      "execution_count": null,
      "outputs": []
    },
    {
      "cell_type": "code",
      "source": [
        "#me need to add val break points as param\n",
        "def evaluate(model: nn.Module, val_x_param: dict, val_y_param: dict, break_points_param: list) -> float:\n",
        "    model.eval()  # turn on evaluation mode\n",
        "    total_loss = 0.\n",
        "\n",
        "    with torch.no_grad():\n",
        "        # for all elements in data we are evaluating\n",
        "        for batch in range(break_points_param[-1]):\n",
        "            for j in range(len(break_points_param)):\n",
        "                if batch < break_points_param[j]:\n",
        "                    idx_for_seq = batch\n",
        "                    if j > 0:\n",
        "                        idx_for_seq = batch - break_points_param[j-1]\n",
        "                    data, targets = get_batch_xy(val_x_param['length' + str(j + 2)], \n",
        "                                                val_y_param['length' + str(j + 2)],\n",
        "                                                idx_for_seq)\n",
        "\n",
        "\n",
        "                    data = data.to(torch.float32).to(device)\n",
        "                    targets = targets.to(torch.float32).to(device)\n",
        "                    seq_len = data.size(0)\n",
        "                    src_mask = src_masks_dict['mask' + str(seq_len)]\n",
        "                    output = model(data, src_mask)\n",
        "                    #output_flat = output.view(-1, ntokens)\n",
        "                    output_flat = output.view(-1)\n",
        "                    total_loss += seq_len * criterion(output_flat, targets).item()\n",
        "                    break\n",
        "    return total_loss / (break_points_param[-1])"
      ],
      "metadata": {
        "id": "QQWPyv0MR3iT"
      },
      "execution_count": null,
      "outputs": []
    },
    {
      "cell_type": "code",
      "source": [
        "# original\n",
        "best_val_loss = float('inf')\n",
        "patience = 7  # Number of epochs to wait before early stopping\n",
        "counter = 0  # Counter for the number of epochs without improvement\n",
        "epochs = 1000\n",
        "with TemporaryDirectory() as tempdir:\n",
        "    best_model_params_path = os.path.join(tempdir, \"best_model_params.pt\")\n",
        "\n",
        "    for epoch in range(1, epochs + 1):\n",
        "        epoch_start_time = time.time()\n",
        "        train(model, train_x_by_seq_len, train_y_by_seq_len)\n",
        "        val_loss = evaluate(model, val_x_by_seq_len, val_y_by_seq_len, val_break_points)\n",
        "        #val_ppl = math.exp(val_loss)\n",
        "        elapsed = time.time() - epoch_start_time\n",
        "        print('-' * 89)\n",
        "        print(f'| end of epoch {epoch:3d} | time: {elapsed:5.2f}s | '\n",
        "            f'valid loss {val_loss:5.5f}')\n",
        "        print('-' * 89)\n",
        "\n",
        "        if val_loss < best_val_loss:\n",
        "            best_val_loss = val_loss\n",
        "            counter = 0\n",
        "            torch.save(model.state_dict(), best_model_params_path)\n",
        "        else:\n",
        "            counter += 1\n",
        "        \n",
        "        if counter >= patience:\n",
        "            print(\"stopping early!\")\n",
        "            break\n",
        "\n",
        "        scheduler.step()\n",
        "    model.load_state_dict(torch.load(best_model_params_path)) # load best model states"
      ],
      "metadata": {
        "colab": {
          "base_uri": "https://localhost:8080/"
        },
        "id": "qRsil1MfrMDw",
        "outputId": "91ce43aa-29dd-4b23-caa3-59f2494ae6cb"
      },
      "execution_count": null,
      "outputs": [
        {
          "output_type": "stream",
          "name": "stdout",
          "text": [
            "| epoch   1 |   200/  200 batches | lr 0.00 | ms/batch 30.45 | loss 0.13091 | ppl     1.14\n",
            "| epoch   1 |   400/  400 batches | lr 0.00 | ms/batch 12.87 | loss 0.06274 | ppl     1.06\n",
            "| epoch   1 |   600/  600 batches | lr 0.00 | ms/batch 13.01 | loss 0.05027 | ppl     1.05\n",
            "-----------------------------------------------------------------------------------------\n",
            "| end of epoch   1 | time: 12.66s | valid loss 0.05454\n",
            "-----------------------------------------------------------------------------------------\n",
            "| epoch   2 |   200/  200 batches | lr 0.00 | ms/batch 12.80 | loss 0.04268 | ppl     1.04\n",
            "| epoch   2 |   400/  400 batches | lr 0.00 | ms/batch 12.61 | loss 0.03843 | ppl     1.04\n",
            "| epoch   2 |   600/  600 batches | lr 0.00 | ms/batch 12.74 | loss 0.03818 | ppl     1.04\n",
            "-----------------------------------------------------------------------------------------\n",
            "| end of epoch   2 | time:  9.02s | valid loss 0.05098\n",
            "-----------------------------------------------------------------------------------------\n",
            "| epoch   3 |   200/  200 batches | lr 0.00 | ms/batch 12.98 | loss 0.03612 | ppl     1.04\n",
            "| epoch   3 |   400/  400 batches | lr 0.00 | ms/batch 12.75 | loss 0.03420 | ppl     1.03\n",
            "| epoch   3 |   600/  600 batches | lr 0.00 | ms/batch 12.59 | loss 0.03323 | ppl     1.03\n",
            "-----------------------------------------------------------------------------------------\n",
            "| end of epoch   3 | time:  9.04s | valid loss 0.04874\n",
            "-----------------------------------------------------------------------------------------\n",
            "| epoch   4 |   200/  200 batches | lr 0.00 | ms/batch 12.66 | loss 0.03143 | ppl     1.03\n",
            "| epoch   4 |   400/  400 batches | lr 0.00 | ms/batch 12.68 | loss 0.03066 | ppl     1.03\n",
            "| epoch   4 |   600/  600 batches | lr 0.00 | ms/batch 12.47 | loss 0.02971 | ppl     1.03\n",
            "-----------------------------------------------------------------------------------------\n",
            "| end of epoch   4 | time:  8.93s | valid loss 0.04443\n",
            "-----------------------------------------------------------------------------------------\n",
            "| epoch   5 |   200/  200 batches | lr 0.00 | ms/batch 12.54 | loss 0.02949 | ppl     1.03\n",
            "| epoch   5 |   400/  400 batches | lr 0.00 | ms/batch 12.49 | loss 0.02857 | ppl     1.03\n",
            "| epoch   5 |   600/  600 batches | lr 0.00 | ms/batch 12.67 | loss 0.02778 | ppl     1.03\n",
            "-----------------------------------------------------------------------------------------\n",
            "| end of epoch   5 | time:  8.91s | valid loss 0.04168\n",
            "-----------------------------------------------------------------------------------------\n",
            "| epoch   6 |   200/  200 batches | lr 0.00 | ms/batch 12.51 | loss 0.02741 | ppl     1.03\n",
            "| epoch   6 |   400/  400 batches | lr 0.00 | ms/batch 12.42 | loss 0.02650 | ppl     1.03\n",
            "| epoch   6 |   600/  600 batches | lr 0.00 | ms/batch 12.48 | loss 0.02702 | ppl     1.03\n",
            "-----------------------------------------------------------------------------------------\n",
            "| end of epoch   6 | time:  8.85s | valid loss 0.04348\n",
            "-----------------------------------------------------------------------------------------\n",
            "| epoch   7 |   200/  200 batches | lr 0.00 | ms/batch 12.66 | loss 0.02564 | ppl     1.03\n",
            "| epoch   7 |   400/  400 batches | lr 0.00 | ms/batch 12.50 | loss 0.02560 | ppl     1.03\n",
            "| epoch   7 |   600/  600 batches | lr 0.00 | ms/batch 12.39 | loss 0.02531 | ppl     1.03\n",
            "-----------------------------------------------------------------------------------------\n",
            "| end of epoch   7 | time:  8.88s | valid loss 0.04049\n",
            "-----------------------------------------------------------------------------------------\n",
            "| epoch   8 |   200/  200 batches | lr 0.00 | ms/batch 12.52 | loss 0.02555 | ppl     1.03\n",
            "| epoch   8 |   400/  400 batches | lr 0.00 | ms/batch 12.70 | loss 0.02383 | ppl     1.02\n",
            "| epoch   8 |   600/  600 batches | lr 0.00 | ms/batch 12.51 | loss 0.02368 | ppl     1.02\n",
            "-----------------------------------------------------------------------------------------\n",
            "| end of epoch   8 | time:  8.92s | valid loss 0.04445\n",
            "-----------------------------------------------------------------------------------------\n",
            "| epoch   9 |   200/  200 batches | lr 0.00 | ms/batch 12.55 | loss 0.02258 | ppl     1.02\n",
            "| epoch   9 |   400/  400 batches | lr 0.00 | ms/batch 12.41 | loss 0.02273 | ppl     1.02\n",
            "| epoch   9 |   600/  600 batches | lr 0.00 | ms/batch 12.66 | loss 0.02281 | ppl     1.02\n",
            "-----------------------------------------------------------------------------------------\n",
            "| end of epoch   9 | time:  8.89s | valid loss 0.03954\n",
            "-----------------------------------------------------------------------------------------\n",
            "| epoch  10 |   200/  200 batches | lr 0.00 | ms/batch 12.54 | loss 0.02220 | ppl     1.02\n",
            "| epoch  10 |   400/  400 batches | lr 0.00 | ms/batch 12.57 | loss 0.02204 | ppl     1.02\n",
            "| epoch  10 |   600/  600 batches | lr 0.00 | ms/batch 12.44 | loss 0.02142 | ppl     1.02\n",
            "-----------------------------------------------------------------------------------------\n",
            "| end of epoch  10 | time:  8.89s | valid loss 0.03977\n",
            "-----------------------------------------------------------------------------------------\n",
            "| epoch  11 |   200/  200 batches | lr 0.00 | ms/batch 12.63 | loss 0.02125 | ppl     1.02\n",
            "| epoch  11 |   400/  400 batches | lr 0.00 | ms/batch 12.53 | loss 0.02068 | ppl     1.02\n",
            "| epoch  11 |   600/  600 batches | lr 0.00 | ms/batch 12.55 | loss 0.02024 | ppl     1.02\n",
            "-----------------------------------------------------------------------------------------\n",
            "| end of epoch  11 | time:  8.91s | valid loss 0.03858\n",
            "-----------------------------------------------------------------------------------------\n",
            "| epoch  12 |   200/  200 batches | lr 0.00 | ms/batch 12.78 | loss 0.01944 | ppl     1.02\n",
            "| epoch  12 |   400/  400 batches | lr 0.00 | ms/batch 12.46 | loss 0.01976 | ppl     1.02\n",
            "| epoch  12 |   600/  600 batches | lr 0.00 | ms/batch 12.53 | loss 0.01900 | ppl     1.02\n",
            "-----------------------------------------------------------------------------------------\n",
            "| end of epoch  12 | time:  8.92s | valid loss 0.03889\n",
            "-----------------------------------------------------------------------------------------\n",
            "| epoch  13 |   200/  200 batches | lr 0.00 | ms/batch 12.55 | loss 0.01892 | ppl     1.02\n",
            "| epoch  13 |   400/  400 batches | lr 0.00 | ms/batch 12.60 | loss 0.01820 | ppl     1.02\n",
            "| epoch  13 |   600/  600 batches | lr 0.00 | ms/batch 12.72 | loss 0.01892 | ppl     1.02\n",
            "-----------------------------------------------------------------------------------------\n",
            "| end of epoch  13 | time:  8.95s | valid loss 0.03800\n",
            "-----------------------------------------------------------------------------------------\n",
            "| epoch  14 |   200/  200 batches | lr 0.00 | ms/batch 12.47 | loss 0.01814 | ppl     1.02\n",
            "| epoch  14 |   400/  400 batches | lr 0.00 | ms/batch 12.53 | loss 0.01795 | ppl     1.02\n",
            "| epoch  14 |   600/  600 batches | lr 0.00 | ms/batch 12.61 | loss 0.01678 | ppl     1.02\n",
            "-----------------------------------------------------------------------------------------\n",
            "| end of epoch  14 | time:  8.90s | valid loss 0.03497\n",
            "-----------------------------------------------------------------------------------------\n",
            "| epoch  15 |   200/  200 batches | lr 0.00 | ms/batch 12.74 | loss 0.01783 | ppl     1.02\n",
            "| epoch  15 |   400/  400 batches | lr 0.00 | ms/batch 12.54 | loss 0.01699 | ppl     1.02\n",
            "| epoch  15 |   600/  600 batches | lr 0.00 | ms/batch 12.46 | loss 0.01640 | ppl     1.02\n",
            "-----------------------------------------------------------------------------------------\n",
            "| end of epoch  15 | time:  8.92s | valid loss 0.03782\n",
            "-----------------------------------------------------------------------------------------\n",
            "| epoch  16 |   200/  200 batches | lr 0.00 | ms/batch 12.69 | loss 0.01695 | ppl     1.02\n",
            "| epoch  16 |   400/  400 batches | lr 0.00 | ms/batch 12.65 | loss 0.01597 | ppl     1.02\n",
            "| epoch  16 |   600/  600 batches | lr 0.00 | ms/batch 12.69 | loss 0.01586 | ppl     1.02\n",
            "-----------------------------------------------------------------------------------------\n",
            "| end of epoch  16 | time:  9.00s | valid loss 0.03479\n",
            "-----------------------------------------------------------------------------------------\n",
            "| epoch  17 |   200/  200 batches | lr 0.00 | ms/batch 12.80 | loss 0.01576 | ppl     1.02\n",
            "| epoch  17 |   400/  400 batches | lr 0.00 | ms/batch 12.62 | loss 0.01526 | ppl     1.02\n",
            "| epoch  17 |   600/  600 batches | lr 0.00 | ms/batch 12.48 | loss 0.01490 | ppl     1.02\n",
            "-----------------------------------------------------------------------------------------\n",
            "| end of epoch  17 | time:  8.96s | valid loss 0.03669\n",
            "-----------------------------------------------------------------------------------------\n",
            "| epoch  18 |   200/  200 batches | lr 0.00 | ms/batch 12.67 | loss 0.01502 | ppl     1.02\n",
            "| epoch  18 |   400/  400 batches | lr 0.00 | ms/batch 12.93 | loss 0.01500 | ppl     1.02\n",
            "| epoch  18 |   600/  600 batches | lr 0.00 | ms/batch 12.82 | loss 0.01500 | ppl     1.02\n",
            "-----------------------------------------------------------------------------------------\n",
            "| end of epoch  18 | time:  9.08s | valid loss 0.03552\n",
            "-----------------------------------------------------------------------------------------\n",
            "| epoch  19 |   200/  200 batches | lr 0.00 | ms/batch 12.90 | loss 0.01448 | ppl     1.01\n",
            "| epoch  19 |   400/  400 batches | lr 0.00 | ms/batch 12.86 | loss 0.01389 | ppl     1.01\n",
            "| epoch  19 |   600/  600 batches | lr 0.00 | ms/batch 13.14 | loss 0.01410 | ppl     1.01\n",
            "-----------------------------------------------------------------------------------------\n",
            "| end of epoch  19 | time:  9.20s | valid loss 0.03678\n",
            "-----------------------------------------------------------------------------------------\n",
            "| epoch  20 |   200/  200 batches | lr 0.00 | ms/batch 13.00 | loss 0.01341 | ppl     1.01\n",
            "| epoch  20 |   400/  400 batches | lr 0.00 | ms/batch 12.84 | loss 0.01362 | ppl     1.01\n",
            "| epoch  20 |   600/  600 batches | lr 0.00 | ms/batch 12.57 | loss 0.01313 | ppl     1.01\n",
            "-----------------------------------------------------------------------------------------\n",
            "| end of epoch  20 | time:  9.08s | valid loss 0.03343\n",
            "-----------------------------------------------------------------------------------------\n",
            "| epoch  21 |   200/  200 batches | lr 0.00 | ms/batch 12.76 | loss 0.01330 | ppl     1.01\n",
            "| epoch  21 |   400/  400 batches | lr 0.00 | ms/batch 12.73 | loss 0.01289 | ppl     1.01\n",
            "| epoch  21 |   600/  600 batches | lr 0.00 | ms/batch 12.65 | loss 0.01273 | ppl     1.01\n",
            "-----------------------------------------------------------------------------------------\n",
            "| end of epoch  21 | time:  9.02s | valid loss 0.03337\n",
            "-----------------------------------------------------------------------------------------\n",
            "| epoch  22 |   200/  200 batches | lr 0.00 | ms/batch 12.72 | loss 0.01262 | ppl     1.01\n",
            "| epoch  22 |   400/  400 batches | lr 0.00 | ms/batch 12.70 | loss 0.01235 | ppl     1.01\n",
            "| epoch  22 |   600/  600 batches | lr 0.00 | ms/batch 12.54 | loss 0.01230 | ppl     1.01\n",
            "-----------------------------------------------------------------------------------------\n",
            "| end of epoch  22 | time:  9.00s | valid loss 0.03511\n",
            "-----------------------------------------------------------------------------------------\n",
            "| epoch  23 |   200/  200 batches | lr 0.00 | ms/batch 12.63 | loss 0.01213 | ppl     1.01\n",
            "| epoch  23 |   400/  400 batches | lr 0.00 | ms/batch 12.58 | loss 0.01223 | ppl     1.01\n",
            "| epoch  23 |   600/  600 batches | lr 0.00 | ms/batch 12.72 | loss 0.01189 | ppl     1.01\n",
            "-----------------------------------------------------------------------------------------\n",
            "| end of epoch  23 | time:  8.95s | valid loss 0.03623\n",
            "-----------------------------------------------------------------------------------------\n",
            "| epoch  24 |   200/  200 batches | lr 0.00 | ms/batch 12.68 | loss 0.01170 | ppl     1.01\n",
            "| epoch  24 |   400/  400 batches | lr 0.00 | ms/batch 12.55 | loss 0.01170 | ppl     1.01\n",
            "| epoch  24 |   600/  600 batches | lr 0.00 | ms/batch 12.57 | loss 0.01150 | ppl     1.01\n",
            "-----------------------------------------------------------------------------------------\n",
            "| end of epoch  24 | time:  8.95s | valid loss 0.03651\n",
            "-----------------------------------------------------------------------------------------\n",
            "| epoch  25 |   200/  200 batches | lr 0.00 | ms/batch 12.73 | loss 0.01152 | ppl     1.01\n",
            "| epoch  25 |   400/  400 batches | lr 0.00 | ms/batch 12.55 | loss 0.01125 | ppl     1.01\n",
            "| epoch  25 |   600/  600 batches | lr 0.00 | ms/batch 12.62 | loss 0.01153 | ppl     1.01\n",
            "-----------------------------------------------------------------------------------------\n",
            "| end of epoch  25 | time:  8.97s | valid loss 0.03334\n",
            "-----------------------------------------------------------------------------------------\n",
            "| epoch  26 |   200/  200 batches | lr 0.00 | ms/batch 12.66 | loss 0.01114 | ppl     1.01\n",
            "| epoch  26 |   400/  400 batches | lr 0.00 | ms/batch 12.52 | loss 0.01131 | ppl     1.01\n",
            "| epoch  26 |   600/  600 batches | lr 0.00 | ms/batch 12.51 | loss 0.01108 | ppl     1.01\n",
            "-----------------------------------------------------------------------------------------\n",
            "| end of epoch  26 | time:  8.91s | valid loss 0.03434\n",
            "-----------------------------------------------------------------------------------------\n",
            "| epoch  27 |   200/  200 batches | lr 0.00 | ms/batch 12.56 | loss 0.01100 | ppl     1.01\n",
            "| epoch  27 |   400/  400 batches | lr 0.00 | ms/batch 12.62 | loss 0.01103 | ppl     1.01\n",
            "| epoch  27 |   600/  600 batches | lr 0.00 | ms/batch 12.41 | loss 0.01064 | ppl     1.01\n",
            "-----------------------------------------------------------------------------------------\n",
            "| end of epoch  27 | time:  8.89s | valid loss 0.03402\n",
            "-----------------------------------------------------------------------------------------\n",
            "| epoch  28 |   200/  200 batches | lr 0.00 | ms/batch 12.55 | loss 0.01058 | ppl     1.01\n",
            "| epoch  28 |   400/  400 batches | lr 0.00 | ms/batch 12.55 | loss 0.01076 | ppl     1.01\n",
            "| epoch  28 |   600/  600 batches | lr 0.00 | ms/batch 12.37 | loss 0.01031 | ppl     1.01\n",
            "-----------------------------------------------------------------------------------------\n",
            "| end of epoch  28 | time:  8.85s | valid loss 0.03166\n",
            "-----------------------------------------------------------------------------------------\n",
            "| epoch  29 |   200/  200 batches | lr 0.00 | ms/batch 12.49 | loss 0.01036 | ppl     1.01\n",
            "| epoch  29 |   400/  400 batches | lr 0.00 | ms/batch 12.47 | loss 0.01020 | ppl     1.01\n",
            "| epoch  29 |   600/  600 batches | lr 0.00 | ms/batch 12.38 | loss 0.01028 | ppl     1.01\n",
            "-----------------------------------------------------------------------------------------\n",
            "| end of epoch  29 | time:  8.86s | valid loss 0.03267\n",
            "-----------------------------------------------------------------------------------------\n",
            "| epoch  30 |   200/  200 batches | lr 0.00 | ms/batch 12.70 | loss 0.01044 | ppl     1.01\n",
            "| epoch  30 |   400/  400 batches | lr 0.00 | ms/batch 12.61 | loss 0.01045 | ppl     1.01\n",
            "| epoch  30 |   600/  600 batches | lr 0.00 | ms/batch 12.92 | loss 0.00990 | ppl     1.01\n",
            "-----------------------------------------------------------------------------------------\n",
            "| end of epoch  30 | time:  9.02s | valid loss 0.03351\n",
            "-----------------------------------------------------------------------------------------\n",
            "| epoch  31 |   200/  200 batches | lr 0.00 | ms/batch 12.83 | loss 0.00997 | ppl     1.01\n",
            "| epoch  31 |   400/  400 batches | lr 0.00 | ms/batch 12.67 | loss 0.00998 | ppl     1.01\n",
            "| epoch  31 |   600/  600 batches | lr 0.00 | ms/batch 12.57 | loss 0.01021 | ppl     1.01\n",
            "-----------------------------------------------------------------------------------------\n",
            "| end of epoch  31 | time:  9.01s | valid loss 0.03235\n",
            "-----------------------------------------------------------------------------------------\n",
            "| epoch  32 |   200/  200 batches | lr 0.00 | ms/batch 12.87 | loss 0.00963 | ppl     1.01\n",
            "| epoch  32 |   400/  400 batches | lr 0.00 | ms/batch 12.90 | loss 0.00985 | ppl     1.01\n",
            "| epoch  32 |   600/  600 batches | lr 0.00 | ms/batch 12.62 | loss 0.00994 | ppl     1.01\n",
            "-----------------------------------------------------------------------------------------\n",
            "| end of epoch  32 | time:  9.07s | valid loss 0.03333\n",
            "-----------------------------------------------------------------------------------------\n",
            "| epoch  33 |   200/  200 batches | lr 0.00 | ms/batch 12.61 | loss 0.01028 | ppl     1.01\n",
            "| epoch  33 |   400/  400 batches | lr 0.00 | ms/batch 12.63 | loss 0.00923 | ppl     1.01\n",
            "| epoch  33 |   600/  600 batches | lr 0.00 | ms/batch 13.03 | loss 0.00947 | ppl     1.01\n",
            "-----------------------------------------------------------------------------------------\n",
            "| end of epoch  33 | time:  9.05s | valid loss 0.03255\n",
            "-----------------------------------------------------------------------------------------\n",
            "| epoch  34 |   200/  200 batches | lr 0.00 | ms/batch 12.57 | loss 0.01029 | ppl     1.01\n",
            "| epoch  34 |   400/  400 batches | lr 0.00 | ms/batch 12.51 | loss 0.00952 | ppl     1.01\n",
            "| epoch  34 |   600/  600 batches | lr 0.00 | ms/batch 12.61 | loss 0.00923 | ppl     1.01\n",
            "-----------------------------------------------------------------------------------------\n",
            "| end of epoch  34 | time:  8.94s | valid loss 0.03207\n",
            "-----------------------------------------------------------------------------------------\n",
            "| epoch  35 |   200/  200 batches | lr 0.00 | ms/batch 13.00 | loss 0.00989 | ppl     1.01\n",
            "| epoch  35 |   400/  400 batches | lr 0.00 | ms/batch 12.85 | loss 0.00922 | ppl     1.01\n",
            "| epoch  35 |   600/  600 batches | lr 0.00 | ms/batch 12.65 | loss 0.00932 | ppl     1.01\n",
            "-----------------------------------------------------------------------------------------\n",
            "| end of epoch  35 | time:  9.11s | valid loss 0.03117\n",
            "-----------------------------------------------------------------------------------------\n",
            "| epoch  36 |   200/  200 batches | lr 0.00 | ms/batch 12.80 | loss 0.00953 | ppl     1.01\n",
            "| epoch  36 |   400/  400 batches | lr 0.00 | ms/batch 12.81 | loss 0.00907 | ppl     1.01\n",
            "| epoch  36 |   600/  600 batches | lr 0.00 | ms/batch 12.96 | loss 0.00908 | ppl     1.01\n",
            "-----------------------------------------------------------------------------------------\n",
            "| end of epoch  36 | time:  9.14s | valid loss 0.03301\n",
            "-----------------------------------------------------------------------------------------\n",
            "| epoch  37 |   200/  200 batches | lr 0.00 | ms/batch 13.07 | loss 0.00908 | ppl     1.01\n",
            "| epoch  37 |   400/  400 batches | lr 0.00 | ms/batch 13.27 | loss 0.00917 | ppl     1.01\n",
            "| epoch  37 |   600/  600 batches | lr 0.00 | ms/batch 13.03 | loss 0.00908 | ppl     1.01\n",
            "-----------------------------------------------------------------------------------------\n",
            "| end of epoch  37 | time:  9.29s | valid loss 0.03238\n",
            "-----------------------------------------------------------------------------------------\n",
            "| epoch  38 |   200/  200 batches | lr 0.00 | ms/batch 12.95 | loss 0.00903 | ppl     1.01\n",
            "| epoch  38 |   400/  400 batches | lr 0.00 | ms/batch 13.04 | loss 0.00928 | ppl     1.01\n",
            "| epoch  38 |   600/  600 batches | lr 0.00 | ms/batch 12.93 | loss 0.00873 | ppl     1.01\n",
            "-----------------------------------------------------------------------------------------\n",
            "| end of epoch  38 | time:  9.18s | valid loss 0.03150\n",
            "-----------------------------------------------------------------------------------------\n",
            "| epoch  39 |   200/  200 batches | lr 0.00 | ms/batch 12.71 | loss 0.00898 | ppl     1.01\n",
            "| epoch  39 |   400/  400 batches | lr 0.00 | ms/batch 12.67 | loss 0.00903 | ppl     1.01\n",
            "| epoch  39 |   600/  600 batches | lr 0.00 | ms/batch 12.67 | loss 0.00897 | ppl     1.01\n",
            "-----------------------------------------------------------------------------------------\n",
            "| end of epoch  39 | time:  9.02s | valid loss 0.03093\n",
            "-----------------------------------------------------------------------------------------\n",
            "| epoch  40 |   200/  200 batches | lr 0.00 | ms/batch 12.79 | loss 0.00919 | ppl     1.01\n",
            "| epoch  40 |   400/  400 batches | lr 0.00 | ms/batch 12.65 | loss 0.00871 | ppl     1.01\n",
            "| epoch  40 |   600/  600 batches | lr 0.00 | ms/batch 12.53 | loss 0.00909 | ppl     1.01\n",
            "-----------------------------------------------------------------------------------------\n",
            "| end of epoch  40 | time:  8.97s | valid loss 0.03113\n",
            "-----------------------------------------------------------------------------------------\n",
            "| epoch  41 |   200/  200 batches | lr 0.00 | ms/batch 12.64 | loss 0.00880 | ppl     1.01\n",
            "| epoch  41 |   400/  400 batches | lr 0.00 | ms/batch 12.65 | loss 0.00859 | ppl     1.01\n",
            "| epoch  41 |   600/  600 batches | lr 0.00 | ms/batch 12.60 | loss 0.00883 | ppl     1.01\n",
            "-----------------------------------------------------------------------------------------\n",
            "| end of epoch  41 | time:  8.96s | valid loss 0.03097\n",
            "-----------------------------------------------------------------------------------------\n",
            "| epoch  42 |   200/  200 batches | lr 0.00 | ms/batch 12.62 | loss 0.00864 | ppl     1.01\n",
            "| epoch  42 |   400/  400 batches | lr 0.00 | ms/batch 12.57 | loss 0.00877 | ppl     1.01\n",
            "| epoch  42 |   600/  600 batches | lr 0.00 | ms/batch 12.59 | loss 0.00881 | ppl     1.01\n",
            "-----------------------------------------------------------------------------------------\n",
            "| end of epoch  42 | time:  8.93s | valid loss 0.03146\n",
            "-----------------------------------------------------------------------------------------\n",
            "| epoch  43 |   200/  200 batches | lr 0.00 | ms/batch 12.67 | loss 0.00869 | ppl     1.01\n",
            "| epoch  43 |   400/  400 batches | lr 0.00 | ms/batch 12.43 | loss 0.00880 | ppl     1.01\n",
            "| epoch  43 |   600/  600 batches | lr 0.00 | ms/batch 12.69 | loss 0.00852 | ppl     1.01\n",
            "-----------------------------------------------------------------------------------------\n",
            "| end of epoch  43 | time:  8.94s | valid loss 0.03198\n",
            "-----------------------------------------------------------------------------------------\n",
            "| epoch  44 |   200/  200 batches | lr 0.00 | ms/batch 12.63 | loss 0.00870 | ppl     1.01\n",
            "| epoch  44 |   400/  400 batches | lr 0.00 | ms/batch 12.71 | loss 0.00818 | ppl     1.01\n",
            "| epoch  44 |   600/  600 batches | lr 0.00 | ms/batch 12.58 | loss 0.00879 | ppl     1.01\n",
            "-----------------------------------------------------------------------------------------\n",
            "| end of epoch  44 | time:  8.97s | valid loss 0.03345\n",
            "-----------------------------------------------------------------------------------------\n",
            "| epoch  45 |   200/  200 batches | lr 0.00 | ms/batch 12.72 | loss 0.00882 | ppl     1.01\n",
            "| epoch  45 |   400/  400 batches | lr 0.00 | ms/batch 12.48 | loss 0.00837 | ppl     1.01\n",
            "| epoch  45 |   600/  600 batches | lr 0.00 | ms/batch 12.46 | loss 0.00862 | ppl     1.01\n",
            "-----------------------------------------------------------------------------------------\n",
            "| end of epoch  45 | time:  8.91s | valid loss 0.03178\n",
            "-----------------------------------------------------------------------------------------\n",
            "| epoch  46 |   200/  200 batches | lr 0.00 | ms/batch 12.56 | loss 0.00886 | ppl     1.01\n",
            "| epoch  46 |   400/  400 batches | lr 0.00 | ms/batch 12.45 | loss 0.00831 | ppl     1.01\n",
            "| epoch  46 |   600/  600 batches | lr 0.00 | ms/batch 12.42 | loss 0.00828 | ppl     1.01\n",
            "-----------------------------------------------------------------------------------------\n",
            "| end of epoch  46 | time:  8.84s | valid loss 0.03250\n",
            "-----------------------------------------------------------------------------------------\n",
            "stopping early!\n"
          ]
        }
      ]
    },
    {
      "cell_type": "code",
      "source": [
        "val_loss = evaluate(model, val_x_by_seq_len, val_y_by_seq_len, val_break_points)\n",
        "print('=' * 89)\n",
        "print(f'| End of training | val loss {val_loss:5.5f}')\n",
        "print('=' * 89)"
      ],
      "metadata": {
        "colab": {
          "base_uri": "https://localhost:8080/"
        },
        "id": "2OJwW9X7rmPe",
        "outputId": "99bb8f4e-c9e0-4e12-e86d-05ca83d1b135"
      },
      "execution_count": null,
      "outputs": [
        {
          "output_type": "stream",
          "name": "stdout",
          "text": [
            "=========================================================================================\n",
            "| End of training | val loss 0.03093\n",
            "=========================================================================================\n"
          ]
        }
      ]
    },
    {
      "cell_type": "code",
      "source": [
        "test_loss = evaluate(model, test_x_by_seq_len, test_y_by_seq_len, test_break_points)\n",
        "print('=' * 89)\n",
        "print(f'| End of training | test loss {test_loss:5.5f}')\n",
        "print('=' * 89)"
      ],
      "metadata": {
        "colab": {
          "base_uri": "https://localhost:8080/"
        },
        "id": "e5TzLx38KzZT",
        "outputId": "93da4f20-077e-42b3-8f5d-4e5502773a28"
      },
      "execution_count": null,
      "outputs": [
        {
          "output_type": "stream",
          "name": "stdout",
          "text": [
            "=========================================================================================\n",
            "| End of training | test loss 0.02932\n",
            "=========================================================================================\n"
          ]
        }
      ]
    },
    {
      "cell_type": "markdown",
      "source": [
        "## Display some test actual vs preds"
      ],
      "metadata": {
        "id": "8xbvbaXYLnRb"
      }
    },
    {
      "cell_type": "code",
      "source": [
        "# start for seq length 3, because at 2 its just a single point\n",
        "for i in range(3, 12):\n",
        "    # make prediction\n",
        "    i_src_mask = generate_square_subsequent_mask(i-1).to(device)\n",
        "    i_output = model(test_x_by_seq_len['length' + str(i)][0, :, :, :].to(torch.float32).to(device), i_src_mask)\n",
        "    \n",
        "    # show different columns, hence i-2\n",
        "    pred_line = i_output[:,0,i-3].detach().cpu().numpy()\n",
        "    y_actual = test_y_by_seq_len['length' + str(i)][0,:,0,i-3].detach().numpy()\n",
        "\n",
        "    # for x axis\n",
        "    x_axis = np.arange(len(pred_line))\n",
        "    \n",
        "    # Plotting the lines\n",
        "    plt.plot(x_axis, y_actual, label='Actual')\n",
        "    plt.plot(x_axis, pred_line, label='Predicted')\n",
        "\n",
        "    # Adding labels and title\n",
        "    plt.xlabel('year timestep')\n",
        "    plt.ylabel('per icehour')\n",
        "    plt.title('Pred vs Actual for stat column: ' + str(i-3))\n",
        "\n",
        "    # Adding a legend\n",
        "    plt.legend()\n",
        "\n",
        "    # Displaying the graph\n",
        "    plt.show()"
      ],
      "metadata": {
        "colab": {
          "base_uri": "https://localhost:8080/",
          "height": 1000
        },
        "id": "-noAo1b3NnF0",
        "outputId": "d6142984-5597-4c66-99ee-3e0aa77ae786"
      },
      "execution_count": null,
      "outputs": [
        {
          "output_type": "display_data",
          "data": {
            "text/plain": [
              "<Figure size 640x480 with 1 Axes>"
            ],
            "image/png": "[encoded data removed]"
          },
          "metadata": {}
        },
        {
          "output_type": "display_data",
          "data": {
            "text/plain": [
              "<Figure size 640x480 with 1 Axes>"
            ],
            "image/png": "[encoded data removed]"
          },
          "metadata": {}
        },
        {
          "output_type": "display_data",
          "data": {
            "text/plain": [
              "<Figure size 640x480 with 1 Axes>"
            ],
            "image/png": "[encoded data removed]"
          },
          "metadata": {}
        },
        {
          "output_type": "display_data",
          "data": {
            "text/plain": [
              "<Figure size 640x480 with 1 Axes>"
            ],
            "image/png": "[encoded data removed]"
          },
          "metadata": {}
        },
        {
          "output_type": "display_data",
          "data": {
            "text/plain": [
              "<Figure size 640x480 with 1 Axes>"
            ],
            "image/png": "[encoded data removed]"
          },
          "metadata": {}
        },
        {
          "output_type": "display_data",
          "data": {
            "text/plain": [
              "<Figure size 640x480 with 1 Axes>"
            ],
            "image/png": "[encoded data removed]"
          },
          "metadata": {}
        },
        {
          "output_type": "display_data",
          "data": {
            "text/plain": [
              "<Figure size 640x480 with 1 Axes>"
            ],
            "image/png": "[encoded data removed]"
          },
          "metadata": {}
        },
        {
          "output_type": "display_data",
          "data": {
            "text/plain": [
              "<Figure size 640x480 with 1 Axes>"
            ],
            "image/png": "[encoded data removed]"
          },
          "metadata": {}
        },
        {
          "output_type": "display_data",
          "data": {
            "text/plain": [
              "<Figure size 640x480 with 1 Axes>"
            ],
            "image/png": "[encoded data removed]"
          },
          "metadata": {}
        }
      ]
    },
    {
      "cell_type": "markdown",
      "source": [
        "## Save Model (if necessary)"
      ],
      "metadata": {
        "id": "Vu9CitL4MMU0"
      }
    },
    {
      "cell_type": "code",
      "source": [
        "# if the model is good, save"
      ],
      "metadata": {
        "id": "bMYARanm7eiF"
      },
      "execution_count": null,
      "outputs": []
    },
    {
      "cell_type": "code",
      "source": [
        "torch.save(model.state_dict(), \"best_model_weights.pth\")"
      ],
      "metadata": {
        "id": "0In9oESlpYLi"
      },
      "execution_count": null,
      "outputs": []
    }
  ]
}